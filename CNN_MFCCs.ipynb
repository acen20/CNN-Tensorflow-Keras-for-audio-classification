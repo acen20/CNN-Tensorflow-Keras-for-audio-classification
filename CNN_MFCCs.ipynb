{
 "cells": [
  {
   "cell_type": "code",
   "execution_count": 3,
   "metadata": {},
   "outputs": [],
   "source": [
    "import librosa, librosa.display\n",
    "import pandas as pd\n",
    "import os\n",
    "import matplotlib.pyplot as plt\n",
    "import numpy as np\n",
    "from sklearn.model_selection import train_test_split\n",
    "from tensorflow import keras\n",
    "from keras.utils import to_categorical\n",
    "from tensorflow.python.keras.models import Sequential,Input,Model\n",
    "from keras.layers import Dense, Dropout, Flatten\n",
    "from keras.layers import Conv2D, MaxPooling2D\n",
    "from keras.layers.normalization import BatchNormalization\n",
    "from keras.layers.advanced_activations import LeakyReLU\n",
    "from sklearn.metrics import classification_report"
   ]
  },
  {
   "cell_type": "code",
   "execution_count": 4,
   "metadata": {
    "scrolled": false
   },
   "outputs": [
    {
     "name": "stdout",
     "output_type": "stream",
     "text": [
      "Commented\n"
     ]
    }
   ],
   "source": [
    "'''path = \"audio_cnn/\"\n",
    "min_samples = 22050\n",
    "\n",
    "waveforms = []\n",
    "ffts = []\n",
    "stfts = [] \n",
    "f_ffts = []\n",
    "log_specs = []\n",
    "MFCCs_list = []\n",
    "\n",
    "\n",
    "def extract_MFCCs(signal, sample_rate):\n",
    "    waveforms.append([signal, sample_rate]) \n",
    "    # FFT -> power spectrum\n",
    "    # perform Fourier transform\n",
    "    fft = np.fft.fft(signal)\n",
    "    magnitude = np.abs(fft)\n",
    "    frequency = np.linspace(0, sample_rate, len(magnitude))\n",
    "    f_ffts.append([frequency, magnitude])\n",
    "    \n",
    "    # calculate abs values on complex numbers to get magnitude\n",
    "    spectrum = np.abs(fft)\n",
    "    \n",
    "    # half frequency variable\n",
    "    f = np.linspace(0, sample_rate, len(spectrum))\n",
    "    left_spectrum = spectrum[:int(len(spectrum)/2)]\n",
    "    left_f = f[:int(len(spectrum)/2)]\n",
    "    \n",
    "    ffts.append([left_f, left_spectrum])\n",
    "    \n",
    "    num_mfcc=13 \n",
    "    n_fft=2048\n",
    "    hop_length=512\n",
    "    \n",
    "    #performing Short-time FT\n",
    "    stft = librosa.stft(signal, n_fft=n_fft, hop_length=hop_length)\n",
    "    spectrogram = np.abs(stft)\n",
    "    \n",
    "    stfts.append([spectrogram, sample_rate, hop_length])\n",
    "    \n",
    "    log_spectrogram = librosa.amplitude_to_db(spectrogram)\n",
    "    \n",
    "    log_specs.append([log_spectrogram, sample_rate, hop_length])\n",
    "    \n",
    "    MFCCs = librosa.feature.mfcc(signal, sample_rate, \n",
    "                                 n_mfcc=num_mfcc, n_fft=n_fft,\n",
    "                                 hop_length=hop_length)\n",
    "    MFCCs_list.append([MFCCs, sample_rate, hop_length])\n",
    "    return MFCCs\n",
    "\n",
    "\n",
    "\n",
    "def preprocess_dataset(dataset_path):\n",
    "    data = {\n",
    "        \"mapping\": [],\n",
    "        \"labels\": [],\n",
    "        \"MFCCs\": [],\n",
    "        \"files\": []\n",
    "    } \n",
    "    for i, (dirpath, dirnames, filenames) in enumerate(os.walk(dataset_path)):\n",
    "\n",
    "        if dirpath is not dataset_path:\n",
    "            label = dirpath.split(\"/\")[-1]\n",
    "            data[\"mapping\"].append(label)\n",
    "            print(\"\\nProcessing: '{}'\".format(label))\n",
    "\n",
    "            # process all audio files in sub-dir and store MFCCs\n",
    "            for f in filenames:\n",
    "                file_path = os.path.join(dirpath, f)\n",
    "                signal, sample_rate = librosa.load(file_path)\n",
    "                if len(signal) >= min_samples:\n",
    "\n",
    "                    signal = signal[:min_samples]\n",
    "\n",
    "                    MFCCs = extract_MFCCs(signal, sample_rate)\n",
    "                    if label == 'Drone':\n",
    "                        llabel = 1\n",
    "                    else:\n",
    "                        llabel = 0\n",
    "\n",
    "                    data[\"MFCCs\"].append(MFCCs.T.tolist())\n",
    "                    data[\"labels\"].append(llabel)\n",
    "                    data[\"files\"].append(file_path)\n",
    "                    print(\"{}: {}\".format(file_path, i-1))\n",
    "                    \n",
    "    return data\n",
    "\n",
    "df = preprocess_dataset(path)'''\n",
    "print(\"Commented\")"
   ]
  },
  {
   "cell_type": "code",
   "execution_count": 5,
   "metadata": {},
   "outputs": [
    {
     "ename": "NameError",
     "evalue": "name 'df' is not defined",
     "output_type": "error",
     "traceback": [
      "\u001b[1;31m---------------------------------------------------------------------------\u001b[0m",
      "\u001b[1;31mNameError\u001b[0m                                 Traceback (most recent call last)",
      "\u001b[1;32m<ipython-input-5-3ac86641e10d>\u001b[0m in \u001b[0;36m<module>\u001b[1;34m\u001b[0m\n\u001b[1;32m----> 1\u001b[1;33m \u001b[0mmfcc\u001b[0m \u001b[1;33m=\u001b[0m \u001b[0mnp\u001b[0m\u001b[1;33m.\u001b[0m\u001b[0marray\u001b[0m\u001b[1;33m(\u001b[0m\u001b[0mdf\u001b[0m\u001b[1;33m[\u001b[0m\u001b[1;34m\"MFCCs\"\u001b[0m\u001b[1;33m]\u001b[0m\u001b[1;33m)\u001b[0m\u001b[1;33m\u001b[0m\u001b[1;33m\u001b[0m\u001b[0m\n\u001b[0m\u001b[0;32m      2\u001b[0m \u001b[0mlabels\u001b[0m \u001b[1;33m=\u001b[0m \u001b[0mnp\u001b[0m\u001b[1;33m.\u001b[0m\u001b[0marray\u001b[0m\u001b[1;33m(\u001b[0m\u001b[0mdf\u001b[0m\u001b[1;33m[\u001b[0m\u001b[1;34m\"labels\"\u001b[0m\u001b[1;33m]\u001b[0m\u001b[1;33m)\u001b[0m\u001b[1;33m\u001b[0m\u001b[1;33m\u001b[0m\u001b[0m\n",
      "\u001b[1;31mNameError\u001b[0m: name 'df' is not defined"
     ]
    }
   ],
   "source": [
    "mfcc = np.array(df[\"MFCCs\"])\n",
    "labels = np.array(df[\"labels\"])"
   ]
  },
  {
   "cell_type": "code",
   "execution_count": null,
   "metadata": {
    "scrolled": true
   },
   "outputs": [],
   "source": [
    "data = list(df.items())\n",
    "an_array = np.array(data)\n",
    "np.save('dataset.npy', an_array)"
   ]
  },
  {
   "cell_type": "code",
   "execution_count": 6,
   "metadata": {},
   "outputs": [],
   "source": [
    "dataset_ = np.load('dataset.npy', allow_pickle = True)"
   ]
  },
  {
   "cell_type": "code",
   "execution_count": 7,
   "metadata": {},
   "outputs": [
    {
     "name": "stdout",
     "output_type": "stream",
     "text": [
      "(166, 44, 13)\n",
      "(166,)\n",
      "(12, 44, 13)\n",
      "(12,)\n"
     ]
    }
   ],
   "source": [
    "labels = np.array(dataset_[1][1])\n",
    "mfcc = np.array(dataset_[2][1])\n",
    "test_X = mfcc[:12]\n",
    "mfcc = mfcc[12:]\n",
    "test_y = labels[:12]\n",
    "labels = labels[12:]\n",
    "print(mfcc.shape)\n",
    "print(labels.shape)\n",
    "print(test_X.shape)\n",
    "print(test_y.shape)"
   ]
  },
  {
   "cell_type": "code",
   "execution_count": 8,
   "metadata": {},
   "outputs": [
    {
     "data": {
      "text/plain": [
       "(166, 44, 13)"
      ]
     },
     "execution_count": 8,
     "metadata": {},
     "output_type": "execute_result"
    }
   ],
   "source": [
    "mfcc.shape"
   ]
  },
  {
   "cell_type": "code",
   "execution_count": 9,
   "metadata": {},
   "outputs": [
    {
     "data": {
      "text/plain": [
       "(array([0, 1]), array([89, 77], dtype=int64))"
      ]
     },
     "execution_count": 9,
     "metadata": {},
     "output_type": "execute_result"
    }
   ],
   "source": [
    "unique, counts = np.unique(labels, return_counts=True)\n",
    "unique, counts"
   ]
  },
  {
   "cell_type": "code",
   "execution_count": 10,
   "metadata": {},
   "outputs": [
    {
     "name": "stdout",
     "output_type": "stream",
     "text": [
      "Total number of outputs :  2\n",
      "Output classes :  [0 1]\n"
     ]
    }
   ],
   "source": [
    "classes = np.unique(labels)\n",
    "nClasses = len(classes)\n",
    "print('Total number of outputs : ', nClasses)\n",
    "print('Output classes : ', classes)"
   ]
  },
  {
   "cell_type": "code",
   "execution_count": 11,
   "metadata": {},
   "outputs": [
    {
     "data": {
      "text/plain": [
       "(166, 44, 13, 1)"
      ]
     },
     "execution_count": 11,
     "metadata": {},
     "output_type": "execute_result"
    }
   ],
   "source": [
    "train_X = mfcc.reshape(-1, 44, 13, 1)\n",
    "test_X = test_X.reshape(-1, 44, 13, 1)\n",
    "train_X.shape"
   ]
  },
  {
   "cell_type": "code",
   "execution_count": 12,
   "metadata": {},
   "outputs": [],
   "source": [
    "train_Y_one_hot = to_categorical(labels)\n",
    "test_y_one_hot = to_categorical(test_y)"
   ]
  },
  {
   "cell_type": "code",
   "execution_count": 53,
   "metadata": {},
   "outputs": [
    {
     "data": {
      "text/plain": [
       "(12, 2)"
      ]
     },
     "execution_count": 53,
     "metadata": {},
     "output_type": "execute_result"
    }
   ],
   "source": [
    "test_y_one_hot.shape"
   ]
  },
  {
   "cell_type": "code",
   "execution_count": 14,
   "metadata": {},
   "outputs": [],
   "source": [
    "train_X,valid_X,train_label,valid_label = train_test_split(train_X, train_Y_one_hot, test_size=0.2, random_state=42)"
   ]
  },
  {
   "cell_type": "code",
   "execution_count": 15,
   "metadata": {},
   "outputs": [
    {
     "data": {
      "text/plain": [
       "((132, 44, 13, 1), (34, 44, 13, 1), (132, 2), (34, 2))"
      ]
     },
     "execution_count": 15,
     "metadata": {},
     "output_type": "execute_result"
    }
   ],
   "source": [
    "train_X.shape,valid_X.shape,train_label.shape,valid_label.shape"
   ]
  },
  {
   "cell_type": "code",
   "execution_count": 33,
   "metadata": {},
   "outputs": [],
   "source": [
    "batch_size = 64\n",
    "epochs = 30\n",
    "num_classes = 2"
   ]
  },
  {
   "cell_type": "code",
   "execution_count": 34,
   "metadata": {},
   "outputs": [],
   "source": [
    "model_ = Sequential()\n",
    "model_.add(Conv2D(32, kernel_size=(3, 3),activation='linear',input_shape=(44,13,1),padding='same'))\n",
    "model_.add(LeakyReLU(alpha=0.1))\n",
    "model_.add(MaxPooling2D((2, 2),padding='same'))\n",
    "model_.add(Conv2D(64, (3, 3), activation='linear',padding='same'))\n",
    "model_.add(LeakyReLU(alpha=0.1))\n",
    "model_.add(MaxPooling2D(pool_size=(2, 2),padding='same'))\n",
    "model_.add(Conv2D(128, (3, 3), activation='linear',padding='same'))\n",
    "model_.add(LeakyReLU(alpha=0.1))                  \n",
    "model_.add(MaxPooling2D(pool_size=(2, 2),padding='same'))\n",
    "model_.add(Flatten())\n",
    "model_.add(Dense(128, activation='linear'))\n",
    "model_.add(LeakyReLU(alpha=0.1))                  \n",
    "model_.add(Dense(num_classes, activation='softmax'))"
   ]
  },
  {
   "cell_type": "code",
   "execution_count": 35,
   "metadata": {},
   "outputs": [],
   "source": [
    "model_.compile(loss=keras.losses.categorical_crossentropy, optimizer=keras.optimizers.Adam(),metrics=['accuracy'])"
   ]
  },
  {
   "cell_type": "code",
   "execution_count": 36,
   "metadata": {},
   "outputs": [
    {
     "name": "stdout",
     "output_type": "stream",
     "text": [
      "Model: \"sequential_2\"\n",
      "_________________________________________________________________\n",
      "Layer (type)                 Output Shape              Param #   \n",
      "=================================================================\n",
      "conv2d_6 (Conv2D)            (None, 44, 13, 32)        320       \n",
      "_________________________________________________________________\n",
      "leaky_re_lu_8 (LeakyReLU)    (None, 44, 13, 32)        0         \n",
      "_________________________________________________________________\n",
      "max_pooling2d_6 (MaxPooling2 (None, 22, 7, 32)         0         \n",
      "_________________________________________________________________\n",
      "conv2d_7 (Conv2D)            (None, 22, 7, 64)         18496     \n",
      "_________________________________________________________________\n",
      "leaky_re_lu_9 (LeakyReLU)    (None, 22, 7, 64)         0         \n",
      "_________________________________________________________________\n",
      "max_pooling2d_7 (MaxPooling2 (None, 11, 4, 64)         0         \n",
      "_________________________________________________________________\n",
      "conv2d_8 (Conv2D)            (None, 11, 4, 128)        73856     \n",
      "_________________________________________________________________\n",
      "leaky_re_lu_10 (LeakyReLU)   (None, 11, 4, 128)        0         \n",
      "_________________________________________________________________\n",
      "max_pooling2d_8 (MaxPooling2 (None, 6, 2, 128)         0         \n",
      "_________________________________________________________________\n",
      "flatten_2 (Flatten)          (None, 1536)              0         \n",
      "_________________________________________________________________\n",
      "dense_4 (Dense)              (None, 128)               196736    \n",
      "_________________________________________________________________\n",
      "leaky_re_lu_11 (LeakyReLU)   (None, 128)               0         \n",
      "_________________________________________________________________\n",
      "dense_5 (Dense)              (None, 2)                 258       \n",
      "=================================================================\n",
      "Total params: 289,666\n",
      "Trainable params: 289,666\n",
      "Non-trainable params: 0\n",
      "_________________________________________________________________\n"
     ]
    }
   ],
   "source": [
    "model_.summary()"
   ]
  },
  {
   "cell_type": "code",
   "execution_count": 37,
   "metadata": {
    "scrolled": false
   },
   "outputs": [
    {
     "name": "stdout",
     "output_type": "stream",
     "text": [
      "Epoch 1/30\n",
      "3/3 [==============================] - ETA: 3s - loss: 6.9482 - accuracy: 0.42 - ETA: 0s - loss: 29.3168 - accuracy: 0.468 - 3s 379ms/step - loss: 28.4284 - accuracy: 0.4848 - val_loss: 35.3193 - val_accuracy: 0.4706\n",
      "Epoch 2/30\n",
      "3/3 [==============================] - ETA: 0s - loss: 25.6365 - accuracy: 0.593 - ETA: 0s - loss: 20.9524 - accuracy: 0.554 - 0s 141ms/step - loss: 20.3633 - accuracy: 0.5530 - val_loss: 9.5355 - val_accuracy: 0.5294\n",
      "Epoch 3/30\n",
      "3/3 [==============================] - ETA: 0s - loss: 12.2661 - accuracy: 0.375 - ETA: 0s - loss: 11.4965 - accuracy: 0.437 - 0s 130ms/step - loss: 11.2274 - accuracy: 0.4470 - val_loss: 4.7014 - val_accuracy: 0.5294\n",
      "Epoch 4/30\n",
      "3/3 [==============================] - ETA: 0s - loss: 5.4735 - accuracy: 0.43 - ETA: 0s - loss: 3.4992 - accuracy: 0.53 - 0s 119ms/step - loss: 3.4139 - accuracy: 0.5379 - val_loss: 3.9156 - val_accuracy: 0.4706\n",
      "Epoch 5/30\n",
      "3/3 [==============================] - ETA: 0s - loss: 2.9363 - accuracy: 0.54 - ETA: 0s - loss: 3.1231 - accuracy: 0.55 - 0s 124ms/step - loss: 3.1171 - accuracy: 0.5530 - val_loss: 1.1551 - val_accuracy: 0.5000\n",
      "Epoch 6/30\n",
      "3/3 [==============================] - ETA: 0s - loss: 0.8548 - accuracy: 0.59 - ETA: 0s - loss: 0.7389 - accuracy: 0.64 - 0s 119ms/step - loss: 0.8004 - accuracy: 0.6364 - val_loss: 0.9948 - val_accuracy: 0.6471\n",
      "Epoch 7/30\n",
      "3/3 [==============================] - ETA: 0s - loss: 0.9755 - accuracy: 0.67 - ETA: 0s - loss: 0.9028 - accuracy: 0.67 - 0s 114ms/step - loss: 0.8806 - accuracy: 0.6818 - val_loss: 0.5091 - val_accuracy: 0.7059\n",
      "Epoch 8/30\n",
      "3/3 [==============================] - ETA: 0s - loss: 0.4478 - accuracy: 0.79 - ETA: 0s - loss: 0.4411 - accuracy: 0.74 - 0s 109ms/step - loss: 0.4339 - accuracy: 0.7500 - val_loss: 0.5818 - val_accuracy: 0.7059\n",
      "Epoch 9/30\n",
      "3/3 [==============================] - ETA: 0s - loss: 0.4649 - accuracy: 0.76 - ETA: 0s - loss: 0.4582 - accuracy: 0.76 - 0s 106ms/step - loss: 0.4699 - accuracy: 0.7576 - val_loss: 0.4634 - val_accuracy: 0.7941\n",
      "Epoch 10/30\n",
      "3/3 [==============================] - ETA: 0s - loss: 0.3743 - accuracy: 0.81 - ETA: 0s - loss: 0.3780 - accuracy: 0.82 - 0s 95ms/step - loss: 0.3933 - accuracy: 0.8258 - val_loss: 0.5763 - val_accuracy: 0.7059\n",
      "Epoch 11/30\n",
      "3/3 [==============================] - ETA: 0s - loss: 0.3815 - accuracy: 0.82 - ETA: 0s - loss: 0.4469 - accuracy: 0.80 - 0s 90ms/step - loss: 0.4562 - accuracy: 0.7955 - val_loss: 0.4986 - val_accuracy: 0.6765\n",
      "Epoch 12/30\n",
      "3/3 [==============================] - ETA: 0s - loss: 0.3221 - accuracy: 0.81 - ETA: 0s - loss: 0.3550 - accuracy: 0.78 - 0s 107ms/step - loss: 0.3608 - accuracy: 0.7879 - val_loss: 0.6864 - val_accuracy: 0.7059\n",
      "Epoch 13/30\n",
      "3/3 [==============================] - ETA: 0s - loss: 0.4458 - accuracy: 0.79 - ETA: 0s - loss: 0.4282 - accuracy: 0.81 - 0s 103ms/step - loss: 0.4249 - accuracy: 0.8106 - val_loss: 0.4377 - val_accuracy: 0.7941\n",
      "Epoch 14/30\n",
      "3/3 [==============================] - ETA: 0s - loss: 0.2697 - accuracy: 0.84 - ETA: 0s - loss: 0.2610 - accuracy: 0.88 - 0s 108ms/step - loss: 0.2760 - accuracy: 0.8712 - val_loss: 0.3599 - val_accuracy: 0.8824\n",
      "Epoch 15/30\n",
      "3/3 [==============================] - ETA: 0s - loss: 0.2850 - accuracy: 0.87 - ETA: 0s - loss: 0.2640 - accuracy: 0.88 - 0s 104ms/step - loss: 0.2617 - accuracy: 0.8864 - val_loss: 0.3225 - val_accuracy: 0.8824\n",
      "Epoch 16/30\n",
      "3/3 [==============================] - ETA: 0s - loss: 0.2317 - accuracy: 0.89 - ETA: 0s - loss: 0.2486 - accuracy: 0.89 - 0s 97ms/step - loss: 0.2440 - accuracy: 0.8939 - val_loss: 0.3046 - val_accuracy: 0.9118\n",
      "Epoch 17/30\n",
      "3/3 [==============================] - ETA: 0s - loss: 0.2542 - accuracy: 0.89 - ETA: 0s - loss: 0.2397 - accuracy: 0.91 - 0s 79ms/step - loss: 0.2415 - accuracy: 0.9167 - val_loss: 0.3075 - val_accuracy: 0.8824\n",
      "Epoch 18/30\n",
      "3/3 [==============================] - ETA: 0s - loss: 0.2159 - accuracy: 0.95 - ETA: 0s - loss: 0.2530 - accuracy: 0.91 - 0s 97ms/step - loss: 0.2515 - accuracy: 0.9167 - val_loss: 0.3180 - val_accuracy: 0.9118\n",
      "Epoch 19/30\n",
      "3/3 [==============================] - ETA: 0s - loss: 0.3301 - accuracy: 0.87 - ETA: 0s - loss: 0.2506 - accuracy: 0.91 - 0s 94ms/step - loss: 0.2449 - accuracy: 0.9167 - val_loss: 0.2649 - val_accuracy: 0.9118\n",
      "Epoch 20/30\n",
      "3/3 [==============================] - ETA: 0s - loss: 0.1939 - accuracy: 0.93 - ETA: 0s - loss: 0.2118 - accuracy: 0.92 - 0s 90ms/step - loss: 0.2099 - accuracy: 0.9318 - val_loss: 0.2685 - val_accuracy: 0.8824\n",
      "Epoch 21/30\n",
      "3/3 [==============================] - ETA: 0s - loss: 0.1580 - accuracy: 0.96 - ETA: 0s - loss: 0.1874 - accuracy: 0.94 - 0s 111ms/step - loss: 0.1960 - accuracy: 0.9394 - val_loss: 0.2646 - val_accuracy: 0.9118\n",
      "Epoch 22/30\n",
      "3/3 [==============================] - ETA: 0s - loss: 0.1636 - accuracy: 0.93 - ETA: 0s - loss: 0.2094 - accuracy: 0.91 - 0s 102ms/step - loss: 0.2078 - accuracy: 0.9167 - val_loss: 0.3664 - val_accuracy: 0.8529\n",
      "Epoch 23/30\n",
      "3/3 [==============================] - ETA: 0s - loss: 0.2679 - accuracy: 0.84 - ETA: 0s - loss: 0.2158 - accuracy: 0.89 - 0s 109ms/step - loss: 0.2169 - accuracy: 0.9015 - val_loss: 0.2296 - val_accuracy: 0.9118\n",
      "Epoch 24/30\n",
      "3/3 [==============================] - ETA: 0s - loss: 0.2211 - accuracy: 0.92 - ETA: 0s - loss: 0.1630 - accuracy: 0.95 - 0s 100ms/step - loss: 0.1662 - accuracy: 0.9470 - val_loss: 0.3160 - val_accuracy: 0.8529\n",
      "Epoch 25/30\n",
      "3/3 [==============================] - ETA: 0s - loss: 0.2958 - accuracy: 0.84 - ETA: 0s - loss: 0.2279 - accuracy: 0.89 - 0s 92ms/step - loss: 0.2341 - accuracy: 0.8939 - val_loss: 0.2264 - val_accuracy: 0.9118\n",
      "Epoch 26/30\n",
      "3/3 [==============================] - ETA: 0s - loss: 0.1728 - accuracy: 0.93 - ETA: 0s - loss: 0.1454 - accuracy: 0.95 - 0s 98ms/step - loss: 0.1427 - accuracy: 0.9545 - val_loss: 0.2121 - val_accuracy: 0.9118\n",
      "Epoch 27/30\n",
      "3/3 [==============================] - ETA: 0s - loss: 0.1198 - accuracy: 0.98 - ETA: 0s - loss: 0.1161 - accuracy: 0.98 - 0s 99ms/step - loss: 0.1210 - accuracy: 0.9848 - val_loss: 0.2279 - val_accuracy: 0.9118\n",
      "Epoch 28/30\n",
      "3/3 [==============================] - ETA: 0s - loss: 0.1422 - accuracy: 0.98 - ETA: 0s - loss: 0.1179 - accuracy: 0.98 - 0s 103ms/step - loss: 0.1216 - accuracy: 0.9848 - val_loss: 0.2138 - val_accuracy: 0.9118\n",
      "Epoch 29/30\n",
      "3/3 [==============================] - ETA: 0s - loss: 0.1025 - accuracy: 1.00 - ETA: 0s - loss: 0.1106 - accuracy: 0.98 - 0s 98ms/step - loss: 0.1081 - accuracy: 0.9848 - val_loss: 0.1973 - val_accuracy: 0.9118\n",
      "Epoch 30/30\n",
      "3/3 [==============================] - ETA: 0s - loss: 0.0896 - accuracy: 1.00 - ETA: 0s - loss: 0.0993 - accuracy: 0.98 - 0s 90ms/step - loss: 0.0991 - accuracy: 0.9848 - val_loss: 0.1726 - val_accuracy: 0.9118\n"
     ]
    }
   ],
   "source": [
    "lfo_train = model_.fit(train_X, train_label, batch_size=batch_size,epochs=epochs,verbose=1,validation_data=(valid_X, valid_label))"
   ]
  },
  {
   "cell_type": "code",
   "execution_count": 54,
   "metadata": {},
   "outputs": [
    {
     "data": {
      "text/plain": [
       "(12, 2)"
      ]
     },
     "execution_count": 54,
     "metadata": {},
     "output_type": "execute_result"
    }
   ],
   "source": [
    "test_X.shape\n",
    "test_y_one_hot.shape"
   ]
  },
  {
   "cell_type": "code",
   "execution_count": 55,
   "metadata": {},
   "outputs": [],
   "source": [
    "test_eval = model_.evaluate(test_X, test_y_one_hot, verbose=0)"
   ]
  },
  {
   "cell_type": "code",
   "execution_count": 56,
   "metadata": {},
   "outputs": [
    {
     "data": {
      "text/plain": [
       "[0.4156070649623871, 1.0]"
      ]
     },
     "execution_count": 56,
     "metadata": {},
     "output_type": "execute_result"
    }
   ],
   "source": [
    "test_eval"
   ]
  },
  {
   "cell_type": "code",
   "execution_count": 57,
   "metadata": {
    "scrolled": false
   },
   "outputs": [
    {
     "data": {
      "image/png": "[encoded data removed]",
      "text/plain": [
       "<Figure size 432x288 with 1 Axes>"
      ]
     },
     "metadata": {
      "needs_background": "light"
     },
     "output_type": "display_data"
    },
    {
     "data": {
      "image/png": "[encoded data removed]",
      "text/plain": [
       "<Figure size 432x288 with 1 Axes>"
      ]
     },
     "metadata": {
      "needs_background": "light"
     },
     "output_type": "display_data"
    }
   ],
   "source": [
    "accuracy = lfo_train.history['accuracy']\n",
    "val_accuracy = lfo_train.history['val_accuracy']\n",
    "loss = lfo_train.history['loss']\n",
    "val_loss = lfo_train.history['val_loss']\n",
    "epochss = range(len(accuracy))\n",
    "plt.plot(epochss, accuracy, 'bo', label='Training accuracy')\n",
    "plt.plot(epochss, val_accuracy, 'b', label='Validation accuracy')\n",
    "plt.title('Training and validation accuracy')\n",
    "plt.legend()\n",
    "plt.figure()\n",
    "plt.plot(epochss, loss, 'bo', label='Training loss')\n",
    "plt.plot(epochss, val_loss, 'b', label='Validation loss')\n",
    "plt.title('Training and validation loss')\n",
    "plt.legend()\n",
    "plt.show()"
   ]
  },
  {
   "cell_type": "code",
   "execution_count": 58,
   "metadata": {},
   "outputs": [],
   "source": [
    "#adding dropout layer\n",
    "model_ = Sequential()\n",
    "model_.add(Conv2D(32, kernel_size=(3, 3),activation='linear',padding='same',input_shape=(44,13,1)))\n",
    "model_.add(LeakyReLU(alpha=0.1))\n",
    "model_.add(MaxPooling2D((2, 2),padding='same'))\n",
    "model_.add(Dropout(0.25))\n",
    "model_.add(Conv2D(64, (3, 3), activation='linear',padding='same'))\n",
    "model_.add(LeakyReLU(alpha=0.1))\n",
    "model_.add(MaxPooling2D(pool_size=(2, 2),padding='same'))\n",
    "model_.add(Dropout(0.25))\n",
    "model_.add(Conv2D(128, (3, 3), activation='linear',padding='same'))\n",
    "model_.add(LeakyReLU(alpha=0.1))                  \n",
    "model_.add(MaxPooling2D(pool_size=(2, 2),padding='same'))\n",
    "model_.add(Dropout(0.4))\n",
    "model_.add(Flatten())\n",
    "model_.add(Dense(128, activation='linear'))\n",
    "model_.add(LeakyReLU(alpha=0.1))           \n",
    "model_.add(Dropout(0.3))\n",
    "model_.add(Dense(num_classes, activation='softmax'))"
   ]
  },
  {
   "cell_type": "code",
   "execution_count": 60,
   "metadata": {},
   "outputs": [],
   "source": [
    "model_.compile(loss=keras.losses.categorical_crossentropy, optimizer=keras.optimizers.Adam(),metrics=['accuracy'])"
   ]
  },
  {
   "cell_type": "code",
   "execution_count": 61,
   "metadata": {},
   "outputs": [
    {
     "name": "stdout",
     "output_type": "stream",
     "text": [
      "Epoch 1/30\n",
      "3/3 [==============================] - ETA: 3s - loss: 10.8951 - accuracy: 0.562 - ETA: 0s - loss: 42.9363 - accuracy: 0.531 - 3s 555ms/step - loss: 43.5207 - accuracy: 0.5227 - val_loss: 1.6950 - val_accuracy: 0.5882\n",
      "Epoch 2/30\n",
      "3/3 [==============================] - ETA: 0s - loss: 10.9203 - accuracy: 0.421 - ETA: 0s - loss: 16.1895 - accuracy: 0.445 - 1s 209ms/step - loss: 15.9128 - accuracy: 0.4545 - val_loss: 7.5223 - val_accuracy: 0.5294\n",
      "Epoch 3/30\n",
      "3/3 [==============================] - ETA: 0s - loss: 15.6288 - accuracy: 0.515 - ETA: 0s - loss: 15.1998 - accuracy: 0.453 - 1s 169ms/step - loss: 15.0531 - accuracy: 0.4470 - val_loss: 2.2379 - val_accuracy: 0.4706\n",
      "Epoch 4/30\n",
      "3/3 [==============================] - ETA: 0s - loss: 4.1744 - accuracy: 0.51 - ETA: 0s - loss: 5.6177 - accuracy: 0.50 - 1s 151ms/step - loss: 5.6528 - accuracy: 0.5152 - val_loss: 6.6261 - val_accuracy: 0.4706\n",
      "Epoch 5/30\n",
      "3/3 [==============================] - ETA: 0s - loss: 8.0825 - accuracy: 0.59 - ETA: 0s - loss: 7.7119 - accuracy: 0.57 - 0s 144ms/step - loss: 7.8167 - accuracy: 0.5682 - val_loss: 2.3145 - val_accuracy: 0.4706\n",
      "Epoch 6/30\n",
      "3/3 [==============================] - ETA: 0s - loss: 3.9215 - accuracy: 0.57 - ETA: 0s - loss: 3.1147 - accuracy: 0.60 - 0s 139ms/step - loss: 3.0261 - accuracy: 0.6061 - val_loss: 0.9458 - val_accuracy: 0.6176\n",
      "Epoch 7/30\n",
      "3/3 [==============================] - ETA: 0s - loss: 2.7193 - accuracy: 0.64 - ETA: 0s - loss: 3.3807 - accuracy: 0.60 - 1s 167ms/step - loss: 3.3697 - accuracy: 0.5985 - val_loss: 1.5610 - val_accuracy: 0.5882\n",
      "Epoch 8/30\n",
      "3/3 [==============================] - ETA: 0s - loss: 4.0888 - accuracy: 0.51 - ETA: 0s - loss: 3.6624 - accuracy: 0.54 - 0s 123ms/step - loss: 3.6082 - accuracy: 0.5530 - val_loss: 0.6340 - val_accuracy: 0.6765\n",
      "Epoch 9/30\n",
      "3/3 [==============================] - ETA: 0s - loss: 2.4338 - accuracy: 0.54 - ETA: 0s - loss: 1.8186 - accuracy: 0.60 - 0s 112ms/step - loss: 1.7647 - accuracy: 0.6136 - val_loss: 0.7557 - val_accuracy: 0.6765\n",
      "Epoch 10/30\n",
      "3/3 [==============================] - ETA: 0s - loss: 1.4240 - accuracy: 0.65 - ETA: 0s - loss: 1.4545 - accuracy: 0.67 - 0s 138ms/step - loss: 1.4287 - accuracy: 0.6742 - val_loss: 1.4434 - val_accuracy: 0.4706\n",
      "Epoch 11/30\n",
      "3/3 [==============================] - ETA: 0s - loss: 2.0177 - accuracy: 0.65 - ETA: 0s - loss: 2.0478 - accuracy: 0.62 - 0s 105ms/step - loss: 2.0780 - accuracy: 0.6212 - val_loss: 1.2434 - val_accuracy: 0.5000\n",
      "Epoch 12/30\n",
      "3/3 [==============================] - ETA: 0s - loss: 1.5447 - accuracy: 0.59 - ETA: 0s - loss: 1.3506 - accuracy: 0.64 - 0s 107ms/step - loss: 1.3223 - accuracy: 0.6515 - val_loss: 0.7425 - val_accuracy: 0.6765\n",
      "Epoch 13/30\n",
      "3/3 [==============================] - ETA: 0s - loss: 0.7509 - accuracy: 0.79 - ETA: 0s - loss: 0.6932 - accuracy: 0.79 - 0s 100ms/step - loss: 0.6775 - accuracy: 0.8030 - val_loss: 0.6228 - val_accuracy: 0.5882\n",
      "Epoch 14/30\n",
      "3/3 [==============================] - ETA: 0s - loss: 0.9832 - accuracy: 0.64 - ETA: 0s - loss: 0.8686 - accuracy: 0.66 - 0s 96ms/step - loss: 0.8424 - accuracy: 0.6742 - val_loss: 0.6536 - val_accuracy: 0.6765\n",
      "Epoch 15/30\n",
      "3/3 [==============================] - ETA: 0s - loss: 1.2284 - accuracy: 0.70 - ETA: 0s - loss: 1.1905 - accuracy: 0.71 - 0s 97ms/step - loss: 1.1912 - accuracy: 0.6970 - val_loss: 0.6593 - val_accuracy: 0.6471\n",
      "Epoch 16/30\n",
      "3/3 [==============================] - ETA: 0s - loss: 1.0814 - accuracy: 0.64 - ETA: 0s - loss: 1.0661 - accuracy: 0.67 - 0s 98ms/step - loss: 1.0355 - accuracy: 0.6894 - val_loss: 0.6224 - val_accuracy: 0.6471\n",
      "Epoch 17/30\n",
      "3/3 [==============================] - ETA: 0s - loss: 0.7650 - accuracy: 0.73 - ETA: 0s - loss: 0.8370 - accuracy: 0.70 - 0s 93ms/step - loss: 0.8256 - accuracy: 0.7045 - val_loss: 0.6079 - val_accuracy: 0.6176\n",
      "Epoch 18/30\n",
      "3/3 [==============================] - ETA: 0s - loss: 0.5314 - accuracy: 0.76 - ETA: 0s - loss: 0.5432 - accuracy: 0.75 - 0s 105ms/step - loss: 0.6020 - accuracy: 0.7348 - val_loss: 0.6986 - val_accuracy: 0.6765\n",
      "Epoch 19/30\n",
      "3/3 [==============================] - ETA: 0s - loss: 0.6719 - accuracy: 0.75 - ETA: 0s - loss: 0.7265 - accuracy: 0.70 - 0s 107ms/step - loss: 0.7398 - accuracy: 0.6970 - val_loss: 0.7862 - val_accuracy: 0.5588\n",
      "Epoch 20/30\n",
      "3/3 [==============================] - ETA: 0s - loss: 0.8750 - accuracy: 0.65 - ETA: 0s - loss: 0.7206 - accuracy: 0.67 - 0s 95ms/step - loss: 0.7663 - accuracy: 0.6667 - val_loss: 0.6646 - val_accuracy: 0.6765\n",
      "Epoch 21/30\n",
      "3/3 [==============================] - ETA: 0s - loss: 0.6881 - accuracy: 0.70 - ETA: 0s - loss: 0.6307 - accuracy: 0.72 - 0s 97ms/step - loss: 0.6212 - accuracy: 0.7273 - val_loss: 0.5494 - val_accuracy: 0.7353\n",
      "Epoch 22/30\n",
      "3/3 [==============================] - ETA: 0s - loss: 0.4212 - accuracy: 0.75 - ETA: 0s - loss: 0.5074 - accuracy: 0.74 - 0s 108ms/step - loss: 0.5478 - accuracy: 0.7424 - val_loss: 0.5108 - val_accuracy: 0.7353\n",
      "Epoch 23/30\n",
      "3/3 [==============================] - ETA: 0s - loss: 0.5298 - accuracy: 0.71 - ETA: 0s - loss: 0.6700 - accuracy: 0.68 - 0s 92ms/step - loss: 0.6636 - accuracy: 0.6894 - val_loss: 0.4942 - val_accuracy: 0.7941\n",
      "Epoch 24/30\n",
      "3/3 [==============================] - ETA: 0s - loss: 0.7001 - accuracy: 0.71 - ETA: 0s - loss: 0.7309 - accuracy: 0.71 - 0s 106ms/step - loss: 0.7461 - accuracy: 0.7045 - val_loss: 0.5334 - val_accuracy: 0.7647\n",
      "Epoch 25/30\n",
      "3/3 [==============================] - ETA: 0s - loss: 0.6016 - accuracy: 0.75 - ETA: 0s - loss: 0.5671 - accuracy: 0.77 - 0s 110ms/step - loss: 0.5822 - accuracy: 0.7652 - val_loss: 0.6441 - val_accuracy: 0.6176\n",
      "Epoch 26/30\n",
      "3/3 [==============================] - ETA: 0s - loss: 0.6710 - accuracy: 0.68 - ETA: 0s - loss: 0.6212 - accuracy: 0.71 - 0s 111ms/step - loss: 0.6056 - accuracy: 0.7273 - val_loss: 0.6533 - val_accuracy: 0.5882\n",
      "Epoch 27/30\n",
      "3/3 [==============================] - ETA: 0s - loss: 0.5535 - accuracy: 0.73 - ETA: 0s - loss: 0.6373 - accuracy: 0.69 - 0s 89ms/step - loss: 0.6300 - accuracy: 0.6970 - val_loss: 0.6179 - val_accuracy: 0.6176\n",
      "Epoch 28/30\n",
      "3/3 [==============================] - ETA: 0s - loss: 0.7526 - accuracy: 0.71 - ETA: 0s - loss: 0.6735 - accuracy: 0.68 - 0s 99ms/step - loss: 0.6615 - accuracy: 0.6894 - val_loss: 0.5499 - val_accuracy: 0.6765\n",
      "Epoch 29/30\n",
      "3/3 [==============================] - ETA: 0s - loss: 0.4839 - accuracy: 0.75 - ETA: 0s - loss: 0.5533 - accuracy: 0.71 - 0s 88ms/step - loss: 0.5377 - accuracy: 0.7273 - val_loss: 0.5045 - val_accuracy: 0.7941\n",
      "Epoch 30/30\n",
      "3/3 [==============================] - ETA: 0s - loss: 0.4519 - accuracy: 0.79 - ETA: 0s - loss: 0.4721 - accuracy: 0.81 - 0s 88ms/step - loss: 0.4652 - accuracy: 0.8106 - val_loss: 0.4912 - val_accuracy: 0.8529\n"
     ]
    }
   ],
   "source": [
    "lfo_train_dropout = model_.fit(train_X, train_label, batch_size=batch_size,epochs=epochs,verbose=1,validation_data=(valid_X, valid_label))"
   ]
  },
  {
   "cell_type": "code",
   "execution_count": 62,
   "metadata": {},
   "outputs": [
    {
     "name": "stdout",
     "output_type": "stream",
     "text": [
      "1/1 [==============================] - ETA: 0s - loss: 0.3790 - accuracy: 0.91 - 0s 79ms/step - loss: 0.3790 - accuracy: 0.9167\n"
     ]
    }
   ],
   "source": [
    "test_eval = model_.evaluate(test_X, test_y_one_hot, verbose=1)"
   ]
  },
  {
   "cell_type": "code",
   "execution_count": 63,
   "metadata": {
    "scrolled": true
   },
   "outputs": [
    {
     "data": {
      "text/plain": [
       "[0.3790387809276581, 0.9166666865348816]"
      ]
     },
     "execution_count": 63,
     "metadata": {},
     "output_type": "execute_result"
    }
   ],
   "source": [
    "test_eval"
   ]
  },
  {
   "cell_type": "code",
   "execution_count": 64,
   "metadata": {
    "scrolled": false
   },
   "outputs": [
    {
     "data": {
      "image/png": "[encoded data removed]",
      "text/plain": [
       "<Figure size 432x288 with 1 Axes>"
      ]
     },
     "metadata": {
      "needs_background": "light"
     },
     "output_type": "display_data"
    },
    {
     "data": {
      "image/png": "[encoded data removed]",
      "text/plain": [
       "<Figure size 432x288 with 1 Axes>"
      ]
     },
     "metadata": {
      "needs_background": "light"
     },
     "output_type": "display_data"
    }
   ],
   "source": [
    "accuracy = lfo_train_dropout.history['accuracy']\n",
    "val_accuracy = lfo_train_dropout.history['val_accuracy']\n",
    "loss = lfo_train_dropout.history['loss']\n",
    "val_loss = lfo_train_dropout.history['val_loss']\n",
    "epochss = range(len(accuracy))\n",
    "plt.plot(epochss, accuracy, 'bo', label='Training accuracy')\n",
    "plt.plot(epochss, val_accuracy, 'b', label='Validation accuracy')\n",
    "plt.title('Training and validation accuracy')\n",
    "plt.legend()\n",
    "plt.figure()\n",
    "plt.plot(epochss, loss, 'bo', label='Training loss')\n",
    "plt.plot(epochss, val_loss, 'b', label='Validation loss')\n",
    "plt.title('Training and validation loss')\n",
    "plt.legend()\n",
    "plt.show()"
   ]
  },
  {
   "cell_type": "code",
   "execution_count": 65,
   "metadata": {},
   "outputs": [
    {
     "name": "stdout",
     "output_type": "stream",
     "text": [
      "0.9166666666666666\n"
     ]
    }
   ],
   "source": [
    "predicted_classes = model_.predict(test_X)\n",
    "predicted_classes = np.argmax(np.round(predicted_classes),axis=1)\n",
    "correct = np.where(predicted_classes==test_y)[0]\n",
    "print(len(correct)/len(predicted_classes))"
   ]
  },
  {
   "cell_type": "code",
   "execution_count": 67,
   "metadata": {},
   "outputs": [
    {
     "name": "stderr",
     "output_type": "stream",
     "text": [
      "C:\\Users\\Ahsen\\Anaconda3\\lib\\site-packages\\sklearn\\metrics\\_classification.py:1248: UndefinedMetricWarning: Recall and F-score are ill-defined and being set to 0.0 in labels with no true samples. Use `zero_division` parameter to control this behavior.\n",
      "  _warn_prf(average, modifier, msg_start, len(result))\n",
      "C:\\Users\\Ahsen\\Anaconda3\\lib\\site-packages\\sklearn\\metrics\\_classification.py:1248: UndefinedMetricWarning: Recall and F-score are ill-defined and being set to 0.0 in labels with no true samples. Use `zero_division` parameter to control this behavior.\n",
      "  _warn_prf(average, modifier, msg_start, len(result))\n",
      "C:\\Users\\Ahsen\\Anaconda3\\lib\\site-packages\\sklearn\\metrics\\_classification.py:1248: UndefinedMetricWarning: Recall and F-score are ill-defined and being set to 0.0 in labels with no true samples. Use `zero_division` parameter to control this behavior.\n",
      "  _warn_prf(average, modifier, msg_start, len(result))\n"
     ]
    },
    {
     "name": "stdout",
     "output_type": "stream",
     "text": [
      "              precision    recall  f1-score   support\n",
      "\n",
      "     Class 0       0.00      0.00      0.00         0\n",
      "     Class 1       1.00      0.92      0.96        12\n",
      "\n",
      "    accuracy                           0.92        12\n",
      "   macro avg       0.50      0.46      0.48        12\n",
      "weighted avg       1.00      0.92      0.96        12\n",
      "\n"
     ]
    }
   ],
   "source": [
    "target_names = [\"Class {}\".format(i) for i in range(num_classes)]\n",
    "print(classification_report(test_y, predicted_classes, target_names=target_names))"
   ]
  }
 ],
 "metadata": {
  "kernelspec": {
   "display_name": "Python 3",
   "language": "python",
   "name": "python3"
  },
  "language_info": {
   "codemirror_mode": {
    "name": "ipython",
    "version": 3
   },
   "file_extension": ".py",
   "mimetype": "text/x-python",
   "name": "python",
   "nbconvert_exporter": "python",
   "pygments_lexer": "ipython3",
   "version": "3.7.1"
  }
 },
 "nbformat": 4,
 "nbformat_minor": 2
}
