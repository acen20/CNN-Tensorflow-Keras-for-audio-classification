{
  "nbformat": 4,
  "nbformat_minor": 0,
  "metadata": {
    "kernelspec": {
      "display_name": "Python 3",
      "language": "python",
      "name": "python3"
    },
    "language_info": {
      "codemirror_mode": {
        "name": "ipython",
        "version": 3
      },
      "file_extension": ".py",
      "mimetype": "text/x-python",
      "name": "python",
      "nbconvert_exporter": "python",
      "pygments_lexer": "ipython3",
      "version": "3.7.1"
    },
    "colab": {
      "name": "LFO Classification.ipynb",
      "provenance": [],
      "collapsed_sections": [
        "PpT5hCwaGrhg"
      ]
    }
  },
  "cells": [
    {
      "cell_type": "code",
      "metadata": {
        "id": "_q8gc1Q8Fnm9"
      },
      "source": [
        "try:\n",
        "  !git clone https://github.com/acen20/CNN-Tensorflow-Keras-for-sound-classification Data\n",
        "  import os\n",
        "  os.chdir('Data')\n",
        "except:\n",
        "  pass \n",
        "\n",
        "dataset = 'dataset.npy'"
      ],
      "execution_count": null,
      "outputs": []
    },
    {
      "cell_type": "code",
      "metadata": {
        "id": "ldfQc86dFmPz"
      },
      "source": [
        "import librosa, librosa.display\n",
        "import pandas as pd\n",
        "import os\n",
        "import matplotlib.pyplot as plt\n",
        "import numpy as np\n",
        "from sklearn.model_selection import train_test_split\n",
        "from tensorflow import keras\n",
        "from keras.utils.np_utils import to_categorical\n",
        "from tensorflow.python.keras.models import Sequential,Input,Model\n",
        "from keras.layers import Dense, Dropout, Flatten\n",
        "from keras.layers import Conv2D, MaxPooling2D\n",
        "from keras.layers import BatchNormalization\n",
        "from keras.layers.advanced_activations import LeakyReLU\n",
        "from sklearn.metrics import classification_report,ConfusionMatrixDisplay\n",
        "from sklearn.utils import shuffle"
      ],
      "execution_count": null,
      "outputs": []
    },
    {
      "cell_type": "markdown",
      "metadata": {
        "id": "PpT5hCwaGrhg"
      },
      "source": [
        "# Feature Extractor\n",
        "Uncomment the following block to use your own dataset for training\n",
        "\n",
        "## Directory Heirarchy\n",
        "Relative to the location of this script, arrange the folders in the following format:\n",
        "\n",
        "<b>Drone Sounds:</b> audio/Drone/{drone sounds here}\n",
        "\n",
        "<b>Other Sounds:</b> audio/{Other}/{Other sounds here}"
      ]
    },
    {
      "cell_type": "code",
      "metadata": {
        "scrolled": false,
        "colab": {
          "base_uri": "https://localhost:8080/"
        },
        "id": "tBsKqBEQFmQE",
        "outputId": "3deb2c1a-3961-4e60-a7fb-4a5d70ee90a1"
      },
      "source": [
        "'''path = \"audio/\"\n",
        "min_samples = 22050\n",
        "\n",
        "waveforms = []\n",
        "ffts = []\n",
        "stfts = [] \n",
        "f_ffts = []\n",
        "log_specs = []\n",
        "MFCCs_list = []\n",
        "\n",
        "\n",
        "def visualize_signals():\n",
        "  sample_audio = 1\n",
        "  FIG_SIZE = (9, 5)\n",
        "\n",
        "  #Waveform\n",
        "  plt.figure(figsize = FIG_SIZE)\n",
        "  waveplot_ = waveforms[sample_audio]\n",
        "  librosa.display.waveplot(waveplot_[0], sr = waveplot_[1], alpha = 0.4)\n",
        "  plt.xlabel(\"Time (s)\")\n",
        "  plt.ylabel(\"Amplitude\")\n",
        "  plt.title(\"Waveform\")\n",
        "  plt.show()\n",
        "\n",
        "  #Fourier Transformation\n",
        "  fourier1 = f_ffts[sample_audio]\n",
        "  plt.figure(figsize=FIG_SIZE)\n",
        "  plt.plot(fourier1[0], fourier1[1], alpha=0.7, color = \"C5\")\n",
        "  plt.xlabel(\"Frequency\")\n",
        "  plt.ylabel(\"Magnitude\")\n",
        "  plt.title(\"FFT\")\n",
        "  plt.show()\n",
        "\n",
        "  #Power Spectrum\n",
        "  fourier2 = ffts[sample_audio]\n",
        "  plt.figure(figsize=FIG_SIZE)\n",
        "  plt.plot(fourier2[0], fourier2[1], alpha=0.7, color = \"C5\")\n",
        "  plt.xlabel(\"Frequency\")\n",
        "  plt.ylabel(\"Magnitude\")\n",
        "  plt.title(\"Power Spectrum\")\n",
        "  plt.show()\n",
        "\n",
        "  #Spectrogram\n",
        "  plt.figure(figsize = FIG_SIZE)\n",
        "  spectrogram_ = stfts[sample_audio]\n",
        "  librosa.display.specshow(spectrogram_[0], sr=spectrogram_[1], hop_length=spectrogram_[2])\n",
        "  plt.xlabel(\"Time\")\n",
        "  plt.ylabel(\"Frequency\")\n",
        "  plt.colorbar()\n",
        "  plt.title(\"Spectrogram\")\n",
        "\n",
        "  #Log Spectrogram\n",
        "  plt.figure(figsize = FIG_SIZE)\n",
        "  log_spectrogram_ = log_specs[sample_audio]\n",
        "  librosa.display.specshow(log_spectrogram_[0], sr=log_spectrogram_[1], hop_length=log_spectrogram_[2])\n",
        "  plt.xlabel(\"Time\")\n",
        "  plt.ylabel(\"Frequency\")\n",
        "  plt.colorbar()\n",
        "  plt.title(\"Log Spectrogram\")\n",
        "\n",
        "  #MFCCs\n",
        "  MFCCs_ = MFCCs_list[sample_audio]\n",
        "  plt.figure(figsize=FIG_SIZE)\n",
        "  librosa.display.specshow(MFCCs_[0], sr=MFCCs_[1], hop_length=MFCCs_[2])\n",
        "  plt.xlabel(\"Time\")\n",
        "  plt.ylabel(\"MFCC coefficients\")\n",
        "  plt.colorbar()\n",
        "  plt.title(\"MFCCs\")\n",
        "\n",
        "\n",
        "\n",
        "def extract_MFCCs(signal, sample_rate):\n",
        "    waveforms.append([signal, sample_rate]) \n",
        "    # FFT -> power spectrum\n",
        "    # perform Fourier transform\n",
        "    fft = np.fft.fft(signal)\n",
        "    magnitude = np.abs(fft)\n",
        "    frequency = np.linspace(0, sample_rate, len(magnitude))\n",
        "    f_ffts.append([frequency, magnitude])\n",
        "    \n",
        "    # calculate abs values on complex numbers to get magnitude\n",
        "    spectrum = np.abs(fft)\n",
        "    \n",
        "    # half frequency variable\n",
        "    f = np.linspace(0, sample_rate, len(spectrum))\n",
        "    left_spectrum = spectrum[:int(len(spectrum)/2)]\n",
        "    left_f = f[:int(len(spectrum)/2)]\n",
        "    \n",
        "    ffts.append([left_f, left_spectrum])\n",
        "    \n",
        "    num_mfcc=13 \n",
        "    n_fft=2048\n",
        "    hop_length=512\n",
        "    \n",
        "    #performing Short-time FT\n",
        "    stft = librosa.stft(signal, n_fft=n_fft, hop_length=hop_length)\n",
        "    spectrogram = np.abs(stft)\n",
        "    \n",
        "    stfts.append([spectrogram, sample_rate, hop_length])\n",
        "    \n",
        "    log_spectrogram = librosa.amplitude_to_db(spectrogram)\n",
        "    \n",
        "    log_specs.append([log_spectrogram, sample_rate, hop_length])\n",
        "    \n",
        "    MFCCs = librosa.feature.mfcc(signal, sample_rate, \n",
        "                                 n_mfcc=num_mfcc, n_fft=n_fft,\n",
        "                                 hop_length=hop_length)\n",
        "    MFCCs_list.append([MFCCs, sample_rate, hop_length])\n",
        "    return MFCCs\n",
        "\n",
        "\n",
        "\n",
        "def preprocess_dataset(dataset_path):\n",
        "    data = {\n",
        "        \"mapping\": [],\n",
        "        \"labels\": [],\n",
        "        \"MFCCs\": [],\n",
        "        \"files\": []\n",
        "    } \n",
        "    for i, (dirpath, dirnames, filenames) in enumerate(os.walk(dataset_path)):\n",
        "\n",
        "        if dirpath is not dataset_path:\n",
        "            label = dirpath.split(\"/\")[-1]\n",
        "            data[\"mapping\"].append(label)\n",
        "            print(\"\\nProcessing: '{}'\".format(label))\n",
        "\n",
        "            # process all audio files in sub-dir and store MFCCs\n",
        "            for f in filenames:\n",
        "                file_path = os.path.join(dirpath, f)\n",
        "                signal, sample_rate = librosa.load(file_path)\n",
        "                if len(signal) >= min_samples:\n",
        "\n",
        "                    signal = signal[:min_samples]\n",
        "\n",
        "                    MFCCs = extract_MFCCs(signal, sample_rate)\n",
        "                    if label == 'Drone':\n",
        "                        llabel = 1\n",
        "                    else:\n",
        "                        llabel = 0\n",
        "\n",
        "                    data[\"MFCCs\"].append(MFCCs.T.tolist())\n",
        "                    data[\"labels\"].append(llabel)\n",
        "                    data[\"files\"].append(file_path)\n",
        "                    print(\"{}: {}\".format(file_path, i-1))\n",
        "                    \n",
        "    return data\n",
        "df = preprocess_dataset(path)\n",
        "mfcc = np.array(df[\"MFCCs\"])\n",
        "labels = np.array(df[\"labels\"])\n",
        "data = list(df.items())\n",
        "an_array = np.array(data)\n",
        "dataset = \"custom.npy\"\n",
        "visualize_signals()\n",
        "np.save(dataset, an_array)\n",
        "'''"
      ],
      "execution_count": null,
      "outputs": [
        {
          "output_type": "execute_result",
          "data": {
            "application/vnd.google.colaboratory.intrinsic+json": {
              "type": "string"
            },
            "text/plain": [
              "'path = \"audio/\"\\nmin_samples = 22050\\n\\nwaveforms = []\\nffts = []\\nstfts = [] \\nf_ffts = []\\nlog_specs = []\\nMFCCs_list = []\\n\\n\\ndef visualize_signals():\\n  sample_audio = 1\\n  FIG_SIZE = (9, 5)\\n\\n  #Waveform\\n  plt.figure(figsize = FIG_SIZE)\\n  waveplot_ = waveforms[sample_audio]\\n  librosa.display.waveplot(waveplot_[0], sr = waveplot_[1], alpha = 0.4)\\n  plt.xlabel(\"Time (s)\")\\n  plt.ylabel(\"Amplitude\")\\n  plt.title(\"Waveform\")\\n  plt.show()\\n\\n  #Fourier Transformation\\n  fourier1 = f_ffts[sample_audio]\\n  plt.figure(figsize=FIG_SIZE)\\n  plt.plot(fourier1[0], fourier1[1], alpha=0.7, color = \"C5\")\\n  plt.xlabel(\"Frequency\")\\n  plt.ylabel(\"Magnitude\")\\n  plt.title(\"FFT\")\\n  plt.show()\\n\\n  #Power Spectrum\\n  fourier2 = ffts[sample_audio]\\n  plt.figure(figsize=FIG_SIZE)\\n  plt.plot(fourier2[0], fourier2[1], alpha=0.7, color = \"C5\")\\n  plt.xlabel(\"Frequency\")\\n  plt.ylabel(\"Magnitude\")\\n  plt.title(\"Power Spectrum\")\\n  plt.show()\\n\\n  #Spectrogram\\n  plt.figure(figsize = FIG_SIZE)\\n  spectrogram_ = stfts[sample_audio]\\n  librosa.display.specshow(spectrogram_[0], sr=spectrogram_[1], hop_length=spectrogram_[2])\\n  plt.xlabel(\"Time\")\\n  plt.ylabel(\"Frequency\")\\n  plt.colorbar()\\n  plt.title(\"Spectrogram\")\\n\\n  #Log Spectrogram\\n  plt.figure(figsize = FIG_SIZE)\\n  log_spectrogram_ = log_specs[sample_audio]\\n  librosa.display.specshow(log_spectrogram_[0], sr=log_spectrogram_[1], hop_length=log_spectrogram_[2])\\n  plt.xlabel(\"Time\")\\n  plt.ylabel(\"Frequency\")\\n  plt.colorbar()\\n  plt.title(\"Log Spectrogram\")\\n\\n  #MFCCs\\n  MFCCs_ = MFCCs_list[sample_audio]\\n  plt.figure(figsize=FIG_SIZE)\\n  librosa.display.specshow(MFCCs_[0], sr=MFCCs_[1], hop_length=MFCCs_[2])\\n  plt.xlabel(\"Time\")\\n  plt.ylabel(\"MFCC coefficients\")\\n  plt.colorbar()\\n  plt.title(\"MFCCs\")\\n\\n\\n\\ndef extract_MFCCs(signal, sample_rate):\\n    waveforms.append([signal, sample_rate]) \\n    # FFT -> power spectrum\\n    # perform Fourier transform\\n    fft = np.fft.fft(signal)\\n    magnitude = np.abs(fft)\\n    frequency = np.linspace(0, sample_rate, len(magnitude))\\n    f_ffts.append([frequency, magnitude])\\n    \\n    # calculate abs values on complex numbers to get magnitude\\n    spectrum = np.abs(fft)\\n    \\n    # half frequency variable\\n    f = np.linspace(0, sample_rate, len(spectrum))\\n    left_spectrum = spectrum[:int(len(spectrum)/2)]\\n    left_f = f[:int(len(spectrum)/2)]\\n    \\n    ffts.append([left_f, left_spectrum])\\n    \\n    num_mfcc=13 \\n    n_fft=2048\\n    hop_length=512\\n    \\n    #performing Short-time FT\\n    stft = librosa.stft(signal, n_fft=n_fft, hop_length=hop_length)\\n    spectrogram = np.abs(stft)\\n    \\n    stfts.append([spectrogram, sample_rate, hop_length])\\n    \\n    log_spectrogram = librosa.amplitude_to_db(spectrogram)\\n    \\n    log_specs.append([log_spectrogram, sample_rate, hop_length])\\n    \\n    MFCCs = librosa.feature.mfcc(signal, sample_rate, \\n                                 n_mfcc=num_mfcc, n_fft=n_fft,\\n                                 hop_length=hop_length)\\n    MFCCs_list.append([MFCCs, sample_rate, hop_length])\\n    return MFCCs\\n\\n\\n\\ndef preprocess_dataset(dataset_path):\\n    data = {\\n        \"mapping\": [],\\n        \"labels\": [],\\n        \"MFCCs\": [],\\n        \"files\": []\\n    } \\n    for i, (dirpath, dirnames, filenames) in enumerate(os.walk(dataset_path)):\\n\\n        if dirpath is not dataset_path:\\n            label = dirpath.split(\"/\")[-1]\\n            data[\"mapping\"].append(label)\\n            print(\"\\nProcessing: \\'{}\\'\".format(label))\\n\\n            # process all audio files in sub-dir and store MFCCs\\n            for f in filenames:\\n                file_path = os.path.join(dirpath, f)\\n                signal, sample_rate = librosa.load(file_path)\\n                if len(signal) >= min_samples:\\n\\n                    signal = signal[:min_samples]\\n\\n                    MFCCs = extract_MFCCs(signal, sample_rate)\\n                    if label == \\'Drone\\':\\n                        llabel = 1\\n                    else:\\n                        llabel = 0\\n\\n                    data[\"MFCCs\"].append(MFCCs.T.tolist())\\n                    data[\"labels\"].append(llabel)\\n                    data[\"files\"].append(file_path)\\n                    print(\"{}: {}\".format(file_path, i-1))\\n                    \\n    return data\\ndf = preprocess_dataset(path)\\nmfcc = np.array(df[\"MFCCs\"])\\nlabels = np.array(df[\"labels\"])\\ndata = list(df.items())\\nan_array = np.array(data)\\ndataset = \"custom.npy\"\\nvisualize_signals()\\nnp.save(dataset, an_array)\\n'"
            ]
          },
          "metadata": {},
          "execution_count": 3
        }
      ]
    },
    {
      "cell_type": "markdown",
      "metadata": {
        "id": "VEq31P8rG_Xd"
      },
      "source": [
        "# CNN Training\n",
        "From the top contended (SVM with RBF kernel, Naive Bayes and CNN) algorithms, CNN was chosen for deployment due to its highly discriminative performance"
      ]
    },
    {
      "cell_type": "code",
      "metadata": {
        "id": "VDqtgGzOFmQR"
      },
      "source": [
        "dataset_ = np.load(dataset, allow_pickle = True)"
      ],
      "execution_count": null,
      "outputs": []
    },
    {
      "cell_type": "code",
      "metadata": {
        "id": "LXDKQsPHFmQS",
        "colab": {
          "base_uri": "https://localhost:8080/"
        },
        "outputId": "b53c04cd-cb9b-4728-b69a-1f7f2769e221"
      },
      "source": [
        "labels = np.array(dataset_[1][1])\n",
        "mfcc = np.array(dataset_[2][1])\n",
        "labels, mfcc = shuffle(labels, mfcc, random_state = 42)\n",
        "breakpoint_ = 6 #To Manually split samples into traning and test sets. The integer specifies num of testing samples\n",
        "test_X = mfcc[:breakpoint_]\n",
        "mfcc = mfcc[breakpoint_:]\n",
        "test_y = labels[:breakpoint_]\n",
        "labels = labels[breakpoint_:]\n",
        "print(mfcc.shape)\n",
        "print(labels.shape)\n",
        "print(test_X.shape)\n",
        "print(test_y.shape)"
      ],
      "execution_count": null,
      "outputs": [
        {
          "output_type": "stream",
          "name": "stdout",
          "text": [
            "(172, 44, 13)\n",
            "(172,)\n",
            "(6, 44, 13)\n",
            "(6,)\n"
          ]
        }
      ]
    },
    {
      "cell_type": "code",
      "metadata": {
        "id": "zFQKtkzjFmQT",
        "colab": {
          "base_uri": "https://localhost:8080/"
        },
        "outputId": "602322ba-2c77-4a35-8d49-5765de396aec"
      },
      "source": [
        "mfcc.shape"
      ],
      "execution_count": null,
      "outputs": [
        {
          "output_type": "execute_result",
          "data": {
            "text/plain": [
              "(172, 44, 13)"
            ]
          },
          "metadata": {},
          "execution_count": 6
        }
      ]
    },
    {
      "cell_type": "code",
      "metadata": {
        "id": "LEBSjC7ZFmQV",
        "colab": {
          "base_uri": "https://localhost:8080/"
        },
        "outputId": "7e1e9a25-862f-49bb-a1d9-1b6ffb4d075b"
      },
      "source": [
        "unique, counts = np.unique(labels, return_counts=True)\n",
        "unique, counts"
      ],
      "execution_count": null,
      "outputs": [
        {
          "output_type": "execute_result",
          "data": {
            "text/plain": [
              "(array([0, 1]), array([88, 84]))"
            ]
          },
          "metadata": {},
          "execution_count": 7
        }
      ]
    },
    {
      "cell_type": "code",
      "metadata": {
        "id": "GZUWne-YFmQW",
        "colab": {
          "base_uri": "https://localhost:8080/"
        },
        "outputId": "3c4224eb-ccb0-4c3e-cec8-771e4e92ac9b"
      },
      "source": [
        "classes = np.unique(labels)\n",
        "nClasses = len(classes)\n",
        "print('Total number of outputs : ', nClasses)\n",
        "print('Output classes : ', classes)"
      ],
      "execution_count": null,
      "outputs": [
        {
          "output_type": "stream",
          "name": "stdout",
          "text": [
            "Total number of outputs :  2\n",
            "Output classes :  [0 1]\n"
          ]
        }
      ]
    },
    {
      "cell_type": "code",
      "metadata": {
        "id": "ePsfhGLhFmQY",
        "colab": {
          "base_uri": "https://localhost:8080/"
        },
        "outputId": "8c964e20-16c7-4fdb-b84d-0b3f58a400d1"
      },
      "source": [
        "train_X = mfcc.reshape(-1, 44, 13, 1)\n",
        "test_X = test_X.reshape(-1, 44, 13, 1)\n",
        "train_X.shape"
      ],
      "execution_count": null,
      "outputs": [
        {
          "output_type": "execute_result",
          "data": {
            "text/plain": [
              "(172, 44, 13, 1)"
            ]
          },
          "metadata": {},
          "execution_count": 9
        }
      ]
    },
    {
      "cell_type": "code",
      "metadata": {
        "id": "WYAlfqkMFmQZ"
      },
      "source": [
        "train_Y_one_hot = to_categorical(labels)\n",
        "test_y_one_hot = to_categorical(test_y)"
      ],
      "execution_count": null,
      "outputs": []
    },
    {
      "cell_type": "code",
      "metadata": {
        "id": "b0Qt9zzRFmQa",
        "colab": {
          "base_uri": "https://localhost:8080/"
        },
        "outputId": "c97f6c4c-552c-4b39-a229-5638dffcced9"
      },
      "source": [
        "test_y_one_hot.shape"
      ],
      "execution_count": null,
      "outputs": [
        {
          "output_type": "execute_result",
          "data": {
            "text/plain": [
              "(6, 2)"
            ]
          },
          "metadata": {},
          "execution_count": 11
        }
      ]
    },
    {
      "cell_type": "code",
      "metadata": {
        "id": "De1qFHTFFmQb"
      },
      "source": [
        "train_X,valid_X,train_label,valid_label = train_test_split(train_X, train_Y_one_hot, test_size=0.20, random_state=42)"
      ],
      "execution_count": null,
      "outputs": []
    },
    {
      "cell_type": "code",
      "metadata": {
        "id": "oGI_H7JuFmQc",
        "colab": {
          "base_uri": "https://localhost:8080/"
        },
        "outputId": "e9543562-45e6-445b-f857-bbe651198961"
      },
      "source": [
        "train_X.shape,valid_X.shape,train_label.shape,valid_label.shape"
      ],
      "execution_count": null,
      "outputs": [
        {
          "output_type": "execute_result",
          "data": {
            "text/plain": [
              "((137, 44, 13, 1), (35, 44, 13, 1), (137, 2), (35, 2))"
            ]
          },
          "metadata": {},
          "execution_count": 13
        }
      ]
    },
    {
      "cell_type": "code",
      "metadata": {
        "id": "ql6zE760FmQd"
      },
      "source": [
        "batch_size = 32\n",
        "epochs = 100\n",
        "num_classes = 2"
      ],
      "execution_count": null,
      "outputs": []
    },
    {
      "cell_type": "code",
      "metadata": {
        "id": "2jGehFYyFmQd"
      },
      "source": [
        "model_ = Sequential()\n",
        "model_.add(Conv2D(32, kernel_size=(3, 3),activation='linear',input_shape=(44,13,1),padding='same'))\n",
        "model_.add(LeakyReLU(alpha=0.1))\n",
        "model_.add(MaxPooling2D((2, 2),padding='same'))\n",
        "model_.add(Conv2D(64, (3, 3), activation='linear',padding='same'))\n",
        "model_.add(LeakyReLU(alpha=0.1))\n",
        "model_.add(MaxPooling2D(pool_size=(2, 2),padding='same'))\n",
        "model_.add(Conv2D(128, (3, 3), activation='linear',padding='same'))\n",
        "model_.add(LeakyReLU(alpha=0.1))                  \n",
        "model_.add(MaxPooling2D(pool_size=(2, 2),padding='same'))\n",
        "model_.add(Flatten())\n",
        "model_.add(Dense(128, activation='linear'))\n",
        "model_.add(LeakyReLU(alpha=0.1))                  \n",
        "model_.add(Dense(num_classes, activation='softmax'))"
      ],
      "execution_count": null,
      "outputs": []
    },
    {
      "cell_type": "code",
      "metadata": {
        "id": "vREp9RV5FmQe"
      },
      "source": [
        "model_.compile(loss=keras.losses.categorical_crossentropy, optimizer='adam',metrics=['accuracy'])"
      ],
      "execution_count": null,
      "outputs": []
    },
    {
      "cell_type": "code",
      "metadata": {
        "scrolled": false,
        "id": "GHcv23EsFmQg",
        "colab": {
          "base_uri": "https://localhost:8080/"
        },
        "outputId": "20a30396-1c17-4f59-a313-662768e335b4"
      },
      "source": [
        "lfo_train = model_.fit(train_X, train_label, batch_size=batch_size,epochs=epochs,verbose=1,validation_data=(valid_X, valid_label))"
      ],
      "execution_count": null,
      "outputs": [
        {
          "output_type": "stream",
          "name": "stdout",
          "text": [
            "Epoch 1/100\n",
            "5/5 [==============================] - 1s 115ms/step - loss: 23.2481 - accuracy: 0.5036 - val_loss: 8.4744 - val_accuracy: 0.4571\n",
            "Epoch 2/100\n",
            "5/5 [==============================] - 0s 61ms/step - loss: 7.9893 - accuracy: 0.5036 - val_loss: 0.4527 - val_accuracy: 0.7143\n",
            "Epoch 3/100\n",
            "5/5 [==============================] - 0s 55ms/step - loss: 1.0211 - accuracy: 0.6715 - val_loss: 0.5711 - val_accuracy: 0.6857\n",
            "Epoch 4/100\n",
            "5/5 [==============================] - 0s 56ms/step - loss: 0.5086 - accuracy: 0.7226 - val_loss: 0.5700 - val_accuracy: 0.6286\n",
            "Epoch 5/100\n",
            "5/5 [==============================] - 0s 60ms/step - loss: 0.4489 - accuracy: 0.7445 - val_loss: 0.3407 - val_accuracy: 0.8286\n",
            "Epoch 6/100\n",
            "5/5 [==============================] - 0s 56ms/step - loss: 0.2787 - accuracy: 0.8832 - val_loss: 0.4305 - val_accuracy: 0.8286\n",
            "Epoch 7/100\n",
            "5/5 [==============================] - 0s 55ms/step - loss: 0.2937 - accuracy: 0.8686 - val_loss: 0.2625 - val_accuracy: 0.8857\n",
            "Epoch 8/100\n",
            "5/5 [==============================] - 0s 59ms/step - loss: 0.2055 - accuracy: 0.9562 - val_loss: 0.2746 - val_accuracy: 0.9143\n",
            "Epoch 9/100\n",
            "5/5 [==============================] - 0s 55ms/step - loss: 0.1687 - accuracy: 0.9416 - val_loss: 0.2061 - val_accuracy: 0.9143\n",
            "Epoch 10/100\n",
            "5/5 [==============================] - 0s 55ms/step - loss: 0.1634 - accuracy: 0.9343 - val_loss: 0.2479 - val_accuracy: 0.8571\n",
            "Epoch 11/100\n",
            "5/5 [==============================] - 0s 55ms/step - loss: 0.1476 - accuracy: 0.9416 - val_loss: 0.3046 - val_accuracy: 0.9143\n",
            "Epoch 12/100\n",
            "5/5 [==============================] - 0s 55ms/step - loss: 0.1227 - accuracy: 0.9562 - val_loss: 0.1943 - val_accuracy: 0.9429\n",
            "Epoch 13/100\n",
            "5/5 [==============================] - 0s 55ms/step - loss: 0.0739 - accuracy: 0.9927 - val_loss: 0.1810 - val_accuracy: 0.9429\n",
            "Epoch 14/100\n",
            "5/5 [==============================] - 0s 55ms/step - loss: 0.0574 - accuracy: 1.0000 - val_loss: 0.1518 - val_accuracy: 0.9143\n",
            "Epoch 15/100\n",
            "5/5 [==============================] - 0s 58ms/step - loss: 0.0442 - accuracy: 1.0000 - val_loss: 0.1575 - val_accuracy: 0.9143\n",
            "Epoch 16/100\n",
            "5/5 [==============================] - 0s 54ms/step - loss: 0.0434 - accuracy: 1.0000 - val_loss: 0.1837 - val_accuracy: 0.9143\n",
            "Epoch 17/100\n",
            "5/5 [==============================] - 0s 55ms/step - loss: 0.0344 - accuracy: 1.0000 - val_loss: 0.1048 - val_accuracy: 0.9714\n",
            "Epoch 18/100\n",
            "5/5 [==============================] - 0s 55ms/step - loss: 0.0331 - accuracy: 0.9927 - val_loss: 0.1850 - val_accuracy: 0.9143\n",
            "Epoch 19/100\n",
            "5/5 [==============================] - 0s 55ms/step - loss: 0.0262 - accuracy: 1.0000 - val_loss: 0.1762 - val_accuracy: 0.8857\n",
            "Epoch 20/100\n",
            "5/5 [==============================] - 0s 56ms/step - loss: 0.0167 - accuracy: 1.0000 - val_loss: 0.1513 - val_accuracy: 0.9143\n",
            "Epoch 21/100\n",
            "5/5 [==============================] - 0s 58ms/step - loss: 0.0127 - accuracy: 1.0000 - val_loss: 0.2036 - val_accuracy: 0.9143\n",
            "Epoch 22/100\n",
            "5/5 [==============================] - 0s 55ms/step - loss: 0.0090 - accuracy: 1.0000 - val_loss: 0.1305 - val_accuracy: 0.9429\n",
            "Epoch 23/100\n",
            "5/5 [==============================] - 0s 56ms/step - loss: 0.0063 - accuracy: 1.0000 - val_loss: 0.1231 - val_accuracy: 0.9429\n",
            "Epoch 24/100\n",
            "5/5 [==============================] - 0s 54ms/step - loss: 0.0050 - accuracy: 1.0000 - val_loss: 0.1571 - val_accuracy: 0.9143\n",
            "Epoch 25/100\n",
            "5/5 [==============================] - 0s 56ms/step - loss: 0.0038 - accuracy: 1.0000 - val_loss: 0.1522 - val_accuracy: 0.9143\n",
            "Epoch 26/100\n",
            "5/5 [==============================] - 0s 59ms/step - loss: 0.0033 - accuracy: 1.0000 - val_loss: 0.1630 - val_accuracy: 0.9143\n",
            "Epoch 27/100\n",
            "5/5 [==============================] - 0s 55ms/step - loss: 0.0030 - accuracy: 1.0000 - val_loss: 0.1704 - val_accuracy: 0.9143\n",
            "Epoch 28/100\n",
            "5/5 [==============================] - 0s 54ms/step - loss: 0.0025 - accuracy: 1.0000 - val_loss: 0.1330 - val_accuracy: 0.9429\n",
            "Epoch 29/100\n",
            "5/5 [==============================] - 0s 53ms/step - loss: 0.0022 - accuracy: 1.0000 - val_loss: 0.1141 - val_accuracy: 0.9429\n",
            "Epoch 30/100\n",
            "5/5 [==============================] - 0s 54ms/step - loss: 0.0021 - accuracy: 1.0000 - val_loss: 0.1108 - val_accuracy: 0.9429\n",
            "Epoch 31/100\n",
            "5/5 [==============================] - 0s 56ms/step - loss: 0.0019 - accuracy: 1.0000 - val_loss: 0.1154 - val_accuracy: 0.9429\n",
            "Epoch 32/100\n",
            "5/5 [==============================] - 0s 56ms/step - loss: 0.0017 - accuracy: 1.0000 - val_loss: 0.1267 - val_accuracy: 0.9429\n",
            "Epoch 33/100\n",
            "5/5 [==============================] - 0s 56ms/step - loss: 0.0015 - accuracy: 1.0000 - val_loss: 0.1156 - val_accuracy: 0.9429\n",
            "Epoch 34/100\n",
            "5/5 [==============================] - 0s 55ms/step - loss: 0.0015 - accuracy: 1.0000 - val_loss: 0.1171 - val_accuracy: 0.9429\n",
            "Epoch 35/100\n",
            "5/5 [==============================] - 0s 54ms/step - loss: 0.0014 - accuracy: 1.0000 - val_loss: 0.1323 - val_accuracy: 0.9429\n",
            "Epoch 36/100\n",
            "5/5 [==============================] - 0s 56ms/step - loss: 0.0012 - accuracy: 1.0000 - val_loss: 0.1238 - val_accuracy: 0.9429\n",
            "Epoch 37/100\n",
            "5/5 [==============================] - 0s 55ms/step - loss: 0.0012 - accuracy: 1.0000 - val_loss: 0.1159 - val_accuracy: 0.9429\n",
            "Epoch 38/100\n",
            "5/5 [==============================] - 0s 57ms/step - loss: 0.0011 - accuracy: 1.0000 - val_loss: 0.1191 - val_accuracy: 0.9429\n",
            "Epoch 39/100\n",
            "5/5 [==============================] - 0s 58ms/step - loss: 0.0010 - accuracy: 1.0000 - val_loss: 0.1217 - val_accuracy: 0.9429\n",
            "Epoch 40/100\n",
            "5/5 [==============================] - 0s 57ms/step - loss: 9.7301e-04 - accuracy: 1.0000 - val_loss: 0.1132 - val_accuracy: 0.9429\n",
            "Epoch 41/100\n",
            "5/5 [==============================] - 0s 53ms/step - loss: 9.1975e-04 - accuracy: 1.0000 - val_loss: 0.1070 - val_accuracy: 0.9429\n",
            "Epoch 42/100\n",
            "5/5 [==============================] - 0s 56ms/step - loss: 9.0661e-04 - accuracy: 1.0000 - val_loss: 0.1124 - val_accuracy: 0.9429\n",
            "Epoch 43/100\n",
            "5/5 [==============================] - 0s 53ms/step - loss: 8.2984e-04 - accuracy: 1.0000 - val_loss: 0.1223 - val_accuracy: 0.9429\n",
            "Epoch 44/100\n",
            "5/5 [==============================] - 0s 56ms/step - loss: 8.1465e-04 - accuracy: 1.0000 - val_loss: 0.1273 - val_accuracy: 0.9429\n",
            "Epoch 45/100\n",
            "5/5 [==============================] - 0s 56ms/step - loss: 7.6158e-04 - accuracy: 1.0000 - val_loss: 0.1107 - val_accuracy: 0.9429\n",
            "Epoch 46/100\n",
            "5/5 [==============================] - 0s 56ms/step - loss: 7.3683e-04 - accuracy: 1.0000 - val_loss: 0.1050 - val_accuracy: 0.9429\n",
            "Epoch 47/100\n",
            "5/5 [==============================] - 0s 54ms/step - loss: 7.0156e-04 - accuracy: 1.0000 - val_loss: 0.1162 - val_accuracy: 0.9429\n",
            "Epoch 48/100\n",
            "5/5 [==============================] - 0s 56ms/step - loss: 6.7082e-04 - accuracy: 1.0000 - val_loss: 0.1102 - val_accuracy: 0.9429\n",
            "Epoch 49/100\n",
            "5/5 [==============================] - 0s 54ms/step - loss: 6.4026e-04 - accuracy: 1.0000 - val_loss: 0.1067 - val_accuracy: 0.9429\n",
            "Epoch 50/100\n",
            "5/5 [==============================] - 0s 54ms/step - loss: 6.1867e-04 - accuracy: 1.0000 - val_loss: 0.1061 - val_accuracy: 0.9429\n",
            "Epoch 51/100\n",
            "5/5 [==============================] - 0s 59ms/step - loss: 5.8692e-04 - accuracy: 1.0000 - val_loss: 0.1132 - val_accuracy: 0.9429\n",
            "Epoch 52/100\n",
            "5/5 [==============================] - 0s 55ms/step - loss: 5.6952e-04 - accuracy: 1.0000 - val_loss: 0.1145 - val_accuracy: 0.9429\n",
            "Epoch 53/100\n",
            "5/5 [==============================] - 0s 56ms/step - loss: 5.5192e-04 - accuracy: 1.0000 - val_loss: 0.1108 - val_accuracy: 0.9429\n",
            "Epoch 54/100\n",
            "5/5 [==============================] - 0s 55ms/step - loss: 5.2882e-04 - accuracy: 1.0000 - val_loss: 0.1161 - val_accuracy: 0.9429\n",
            "Epoch 55/100\n",
            "5/5 [==============================] - 0s 56ms/step - loss: 5.1166e-04 - accuracy: 1.0000 - val_loss: 0.1108 - val_accuracy: 0.9429\n",
            "Epoch 56/100\n",
            "5/5 [==============================] - 0s 54ms/step - loss: 4.8885e-04 - accuracy: 1.0000 - val_loss: 0.1051 - val_accuracy: 0.9429\n",
            "Epoch 57/100\n",
            "5/5 [==============================] - 0s 54ms/step - loss: 4.7323e-04 - accuracy: 1.0000 - val_loss: 0.1046 - val_accuracy: 0.9429\n",
            "Epoch 58/100\n",
            "5/5 [==============================] - 0s 54ms/step - loss: 4.6117e-04 - accuracy: 1.0000 - val_loss: 0.1005 - val_accuracy: 0.9429\n",
            "Epoch 59/100\n",
            "5/5 [==============================] - 0s 55ms/step - loss: 4.4321e-04 - accuracy: 1.0000 - val_loss: 0.1040 - val_accuracy: 0.9429\n",
            "Epoch 60/100\n",
            "5/5 [==============================] - 0s 54ms/step - loss: 4.3631e-04 - accuracy: 1.0000 - val_loss: 0.1113 - val_accuracy: 0.9429\n",
            "Epoch 61/100\n",
            "5/5 [==============================] - 0s 56ms/step - loss: 4.1607e-04 - accuracy: 1.0000 - val_loss: 0.1020 - val_accuracy: 0.9429\n",
            "Epoch 62/100\n",
            "5/5 [==============================] - 0s 56ms/step - loss: 4.0134e-04 - accuracy: 1.0000 - val_loss: 0.0941 - val_accuracy: 0.9714\n",
            "Epoch 63/100\n",
            "5/5 [==============================] - 0s 56ms/step - loss: 3.9843e-04 - accuracy: 1.0000 - val_loss: 0.0957 - val_accuracy: 0.9714\n",
            "Epoch 64/100\n",
            "5/5 [==============================] - 0s 56ms/step - loss: 3.8603e-04 - accuracy: 1.0000 - val_loss: 0.1070 - val_accuracy: 0.9429\n",
            "Epoch 65/100\n",
            "5/5 [==============================] - 0s 56ms/step - loss: 3.6960e-04 - accuracy: 1.0000 - val_loss: 0.1157 - val_accuracy: 0.9429\n",
            "Epoch 66/100\n",
            "5/5 [==============================] - 0s 59ms/step - loss: 3.6035e-04 - accuracy: 1.0000 - val_loss: 0.1101 - val_accuracy: 0.9429\n",
            "Epoch 67/100\n",
            "5/5 [==============================] - 0s 55ms/step - loss: 3.4304e-04 - accuracy: 1.0000 - val_loss: 0.1018 - val_accuracy: 0.9429\n",
            "Epoch 68/100\n",
            "5/5 [==============================] - 0s 59ms/step - loss: 3.3031e-04 - accuracy: 1.0000 - val_loss: 0.0971 - val_accuracy: 0.9714\n",
            "Epoch 69/100\n",
            "5/5 [==============================] - 0s 57ms/step - loss: 3.2518e-04 - accuracy: 1.0000 - val_loss: 0.0950 - val_accuracy: 0.9714\n",
            "Epoch 70/100\n",
            "5/5 [==============================] - 0s 56ms/step - loss: 3.1355e-04 - accuracy: 1.0000 - val_loss: 0.1013 - val_accuracy: 0.9429\n",
            "Epoch 71/100\n",
            "5/5 [==============================] - 0s 54ms/step - loss: 3.0291e-04 - accuracy: 1.0000 - val_loss: 0.1067 - val_accuracy: 0.9429\n",
            "Epoch 72/100\n",
            "5/5 [==============================] - 0s 56ms/step - loss: 2.9671e-04 - accuracy: 1.0000 - val_loss: 0.1050 - val_accuracy: 0.9429\n",
            "Epoch 73/100\n",
            "5/5 [==============================] - 0s 58ms/step - loss: 2.8602e-04 - accuracy: 1.0000 - val_loss: 0.1021 - val_accuracy: 0.9429\n",
            "Epoch 74/100\n",
            "5/5 [==============================] - 0s 54ms/step - loss: 2.7821e-04 - accuracy: 1.0000 - val_loss: 0.0973 - val_accuracy: 0.9429\n",
            "Epoch 75/100\n",
            "5/5 [==============================] - 0s 55ms/step - loss: 2.6434e-04 - accuracy: 1.0000 - val_loss: 0.1007 - val_accuracy: 0.9429\n",
            "Epoch 76/100\n",
            "5/5 [==============================] - 0s 56ms/step - loss: 2.6102e-04 - accuracy: 1.0000 - val_loss: 0.0986 - val_accuracy: 0.9429\n",
            "Epoch 77/100\n",
            "5/5 [==============================] - 0s 57ms/step - loss: 2.5344e-04 - accuracy: 1.0000 - val_loss: 0.0937 - val_accuracy: 0.9714\n",
            "Epoch 78/100\n",
            "5/5 [==============================] - 0s 55ms/step - loss: 2.4282e-04 - accuracy: 1.0000 - val_loss: 0.0900 - val_accuracy: 0.9714\n",
            "Epoch 79/100\n",
            "5/5 [==============================] - 0s 55ms/step - loss: 2.3927e-04 - accuracy: 1.0000 - val_loss: 0.0874 - val_accuracy: 0.9429\n",
            "Epoch 80/100\n",
            "5/5 [==============================] - 0s 61ms/step - loss: 2.3455e-04 - accuracy: 1.0000 - val_loss: 0.0888 - val_accuracy: 0.9429\n",
            "Epoch 81/100\n",
            "5/5 [==============================] - 0s 56ms/step - loss: 2.2667e-04 - accuracy: 1.0000 - val_loss: 0.0913 - val_accuracy: 0.9429\n",
            "Epoch 82/100\n",
            "5/5 [==============================] - 0s 55ms/step - loss: 2.1895e-04 - accuracy: 1.0000 - val_loss: 0.0951 - val_accuracy: 0.9429\n",
            "Epoch 83/100\n",
            "5/5 [==============================] - 0s 55ms/step - loss: 2.1455e-04 - accuracy: 1.0000 - val_loss: 0.0997 - val_accuracy: 0.9429\n",
            "Epoch 84/100\n",
            "5/5 [==============================] - 0s 56ms/step - loss: 2.0883e-04 - accuracy: 1.0000 - val_loss: 0.0979 - val_accuracy: 0.9429\n",
            "Epoch 85/100\n",
            "5/5 [==============================] - 0s 56ms/step - loss: 2.0317e-04 - accuracy: 1.0000 - val_loss: 0.0937 - val_accuracy: 0.9429\n",
            "Epoch 86/100\n",
            "5/5 [==============================] - 0s 55ms/step - loss: 1.9972e-04 - accuracy: 1.0000 - val_loss: 0.0909 - val_accuracy: 0.9429\n",
            "Epoch 87/100\n",
            "5/5 [==============================] - 0s 57ms/step - loss: 1.9447e-04 - accuracy: 1.0000 - val_loss: 0.0924 - val_accuracy: 0.9429\n",
            "Epoch 88/100\n",
            "5/5 [==============================] - 0s 57ms/step - loss: 1.9018e-04 - accuracy: 1.0000 - val_loss: 0.0942 - val_accuracy: 0.9429\n",
            "Epoch 89/100\n",
            "5/5 [==============================] - 0s 58ms/step - loss: 1.8467e-04 - accuracy: 1.0000 - val_loss: 0.0934 - val_accuracy: 0.9429\n",
            "Epoch 90/100\n",
            "5/5 [==============================] - 0s 55ms/step - loss: 1.8454e-04 - accuracy: 1.0000 - val_loss: 0.0982 - val_accuracy: 0.9429\n",
            "Epoch 91/100\n",
            "5/5 [==============================] - 0s 57ms/step - loss: 1.7441e-04 - accuracy: 1.0000 - val_loss: 0.0934 - val_accuracy: 0.9429\n",
            "Epoch 92/100\n",
            "5/5 [==============================] - 0s 58ms/step - loss: 1.7025e-04 - accuracy: 1.0000 - val_loss: 0.0896 - val_accuracy: 0.9429\n",
            "Epoch 93/100\n",
            "5/5 [==============================] - 0s 56ms/step - loss: 1.6761e-04 - accuracy: 1.0000 - val_loss: 0.0859 - val_accuracy: 0.9429\n",
            "Epoch 94/100\n",
            "5/5 [==============================] - 0s 58ms/step - loss: 1.6449e-04 - accuracy: 1.0000 - val_loss: 0.0851 - val_accuracy: 0.9429\n",
            "Epoch 95/100\n",
            "5/5 [==============================] - 0s 55ms/step - loss: 1.5994e-04 - accuracy: 1.0000 - val_loss: 0.0852 - val_accuracy: 0.9429\n",
            "Epoch 96/100\n",
            "5/5 [==============================] - 0s 55ms/step - loss: 1.5476e-04 - accuracy: 1.0000 - val_loss: 0.0848 - val_accuracy: 0.9429\n",
            "Epoch 97/100\n",
            "5/5 [==============================] - 0s 56ms/step - loss: 1.5084e-04 - accuracy: 1.0000 - val_loss: 0.0844 - val_accuracy: 0.9429\n",
            "Epoch 98/100\n",
            "5/5 [==============================] - 0s 61ms/step - loss: 1.4619e-04 - accuracy: 1.0000 - val_loss: 0.0821 - val_accuracy: 0.9429\n",
            "Epoch 99/100\n",
            "5/5 [==============================] - 0s 56ms/step - loss: 1.4311e-04 - accuracy: 1.0000 - val_loss: 0.0800 - val_accuracy: 0.9429\n",
            "Epoch 100/100\n",
            "5/5 [==============================] - 0s 56ms/step - loss: 1.4010e-04 - accuracy: 1.0000 - val_loss: 0.0825 - val_accuracy: 0.9429\n"
          ]
        }
      ]
    },
    {
      "cell_type": "code",
      "metadata": {
        "colab": {
          "base_uri": "https://localhost:8080/"
        },
        "id": "BFpACxWXZxrr",
        "outputId": "3f871cab-2467-47b8-b9d1-f7d517480c8b"
      },
      "source": [
        "model_.summary()"
      ],
      "execution_count": null,
      "outputs": [
        {
          "output_type": "stream",
          "name": "stdout",
          "text": [
            "Model: \"sequential\"\n",
            "_________________________________________________________________\n",
            "Layer (type)                 Output Shape              Param #   \n",
            "=================================================================\n",
            "module_wrapper (ModuleWrappe (None, 44, 13, 32)        320       \n",
            "_________________________________________________________________\n",
            "module_wrapper_1 (ModuleWrap (None, 44, 13, 32)        0         \n",
            "_________________________________________________________________\n",
            "module_wrapper_2 (ModuleWrap (None, 22, 7, 32)         0         \n",
            "_________________________________________________________________\n",
            "module_wrapper_3 (ModuleWrap (None, 22, 7, 64)         18496     \n",
            "_________________________________________________________________\n",
            "module_wrapper_4 (ModuleWrap (None, 22, 7, 64)         0         \n",
            "_________________________________________________________________\n",
            "module_wrapper_5 (ModuleWrap (None, 11, 4, 64)         0         \n",
            "_________________________________________________________________\n",
            "module_wrapper_6 (ModuleWrap (None, 11, 4, 128)        73856     \n",
            "_________________________________________________________________\n",
            "module_wrapper_7 (ModuleWrap (None, 11, 4, 128)        0         \n",
            "_________________________________________________________________\n",
            "module_wrapper_8 (ModuleWrap (None, 6, 2, 128)         0         \n",
            "_________________________________________________________________\n",
            "module_wrapper_9 (ModuleWrap (None, 1536)              0         \n",
            "_________________________________________________________________\n",
            "module_wrapper_10 (ModuleWra (None, 128)               196736    \n",
            "_________________________________________________________________\n",
            "module_wrapper_11 (ModuleWra (None, 128)               0         \n",
            "_________________________________________________________________\n",
            "module_wrapper_12 (ModuleWra (None, 2)                 258       \n",
            "=================================================================\n",
            "Total params: 289,666\n",
            "Trainable params: 289,666\n",
            "Non-trainable params: 0\n",
            "_________________________________________________________________\n"
          ]
        }
      ]
    },
    {
      "cell_type": "code",
      "metadata": {
        "id": "jz3VkXGvFmQg",
        "colab": {
          "base_uri": "https://localhost:8080/"
        },
        "outputId": "b82c85d7-b3d2-46a5-859d-38391e584ce9"
      },
      "source": [
        "test_X.shape\n",
        "test_y_one_hot.shape"
      ],
      "execution_count": null,
      "outputs": [
        {
          "output_type": "execute_result",
          "data": {
            "text/plain": [
              "(6, 2)"
            ]
          },
          "metadata": {},
          "execution_count": 19
        }
      ]
    },
    {
      "cell_type": "code",
      "metadata": {
        "id": "xoNsoTkPFmQh"
      },
      "source": [
        "test_eval = model_.evaluate(test_X, test_y_one_hot, verbose=0)"
      ],
      "execution_count": null,
      "outputs": []
    },
    {
      "cell_type": "code",
      "metadata": {
        "id": "mXI_oDQSFmQi",
        "colab": {
          "base_uri": "https://localhost:8080/"
        },
        "outputId": "581f5e53-f797-4a1f-9a40-9d1afa0dda5a"
      },
      "source": [
        "test_eval"
      ],
      "execution_count": null,
      "outputs": [
        {
          "output_type": "execute_result",
          "data": {
            "text/plain": [
              "[6.901703454786912e-05, 1.0]"
            ]
          },
          "metadata": {},
          "execution_count": 21
        }
      ]
    },
    {
      "cell_type": "code",
      "metadata": {
        "scrolled": false,
        "id": "CmEVhiMWFmQi",
        "colab": {
          "base_uri": "https://localhost:8080/",
          "height": 545
        },
        "outputId": "07abe691-289b-47c7-97e3-61f97145b5f2"
      },
      "source": [
        "accuracy = lfo_train.history['accuracy']\n",
        "val_accuracy = lfo_train.history['val_accuracy']\n",
        "loss = lfo_train.history['loss']\n",
        "val_loss = lfo_train.history['val_loss']\n",
        "epochss = range(len(accuracy))\n",
        "plt.plot(epochss, accuracy, 'bo', label='Training accuracy')\n",
        "plt.plot(epochss, val_accuracy, 'b', label='Validation accuracy')\n",
        "plt.title('Training and validation accuracy')\n",
        "plt.legend()\n",
        "plt.figure()\n",
        "plt.plot(epochss, loss, 'bo', label='Training loss')\n",
        "plt.plot(epochss, val_loss, 'b', label='Validation loss')\n",
        "plt.title('Training and validation loss')\n",
        "plt.legend()\n",
        "plt.show()"
      ],
      "execution_count": null,
      "outputs": [
        {
          "output_type": "display_data",
          "data": {
            "image/png": "[encoded data removed]",
            "text/plain": [
              "<Figure size 432x288 with 1 Axes>"
            ]
          },
          "metadata": {
            "needs_background": "light"
          }
        },
        {
          "output_type": "display_data",
          "data": {
            "image/png": "[encoded data removed]",
            "text/plain": [
              "<Figure size 432x288 with 1 Axes>"
            ]
          },
          "metadata": {
            "needs_background": "light"
          }
        }
      ]
    },
    {
      "cell_type": "code",
      "metadata": {
        "colab": {
          "base_uri": "https://localhost:8080/",
          "height": 296
        },
        "id": "VhDiyFdSbcmJ",
        "outputId": "acd17b0f-2cfa-4ede-b735-64f6ca96d1d7"
      },
      "source": [
        "predicted_classes = model_.predict(test_X)\n",
        "predicted_classes = np.argmax(np.round(predicted_classes),axis=1)\n",
        "ConfusionMatrixDisplay.from_predictions(test_y, predicted_classes, labels = [1,0], cmap=\"cubehelix\", colorbar = 0)"
      ],
      "execution_count": null,
      "outputs": [
        {
          "output_type": "execute_result",
          "data": {
            "text/plain": [
              "<sklearn.metrics._plot.confusion_matrix.ConfusionMatrixDisplay at 0x7f8ffa5d7f90>"
            ]
          },
          "metadata": {},
          "execution_count": 23
        },
        {
          "output_type": "display_data",
          "data": {
            "image/png": "[encoded data removed]",
            "text/plain": [
              "<Figure size 432x288 with 1 Axes>"
            ]
          },
          "metadata": {
            "needs_background": "light"
          }
        }
      ]
    },
    {
      "cell_type": "code",
      "metadata": {
        "colab": {
          "base_uri": "https://localhost:8080/"
        },
        "id": "r1K-ow22mHKn",
        "outputId": "c5b607a9-7db7-4865-d6a8-f3be5985565c"
      },
      "source": [
        "test_acc = len(np.where(predicted_classes == test_y)[0]) / len(test_y)\n",
        "print(f'CM Acc: {test_acc}')"
      ],
      "execution_count": null,
      "outputs": [
        {
          "output_type": "stream",
          "name": "stdout",
          "text": [
            "CM Acc: 1.0\n"
          ]
        }
      ]
    },
    {
      "cell_type": "markdown",
      "metadata": {
        "id": "6IgRXDYTJMI0"
      },
      "source": [
        "# Adding the dropout layer to evaluate generalization"
      ]
    },
    {
      "cell_type": "code",
      "metadata": {
        "id": "h0kjwuDUFmQj"
      },
      "source": [
        "#adding dropout layer\n",
        "model_ = Sequential()\n",
        "model_.add(Conv2D(32, kernel_size=(3, 3),activation='linear',padding='same',input_shape=(44,13,1)))\n",
        "model_.add(LeakyReLU(alpha=0.1))\n",
        "model_.add(MaxPooling2D((2, 2),padding='same'))\n",
        "model_.add(Dropout(0.25))\n",
        "model_.add(Conv2D(64, (3, 3), activation='linear',padding='same'))\n",
        "model_.add(LeakyReLU(alpha=0.1))\n",
        "model_.add(MaxPooling2D(pool_size=(2, 2),padding='same'))\n",
        "model_.add(Dropout(0.25))\n",
        "model_.add(Conv2D(128, (3, 3), activation='linear',padding='same'))\n",
        "model_.add(LeakyReLU(alpha=0.1))                  \n",
        "model_.add(MaxPooling2D(pool_size=(2, 2),padding='same'))\n",
        "model_.add(Dropout(0.4))\n",
        "model_.add(Flatten())\n",
        "model_.add(Dense(128, activation='linear'))\n",
        "model_.add(LeakyReLU(alpha=0.1))           \n",
        "model_.add(Dropout(0.3))\n",
        "model_.add(Dense(num_classes, activation='softmax'))"
      ],
      "execution_count": null,
      "outputs": []
    },
    {
      "cell_type": "code",
      "metadata": {
        "id": "k3z83aadFmQk"
      },
      "source": [
        "model_.compile(loss=keras.losses.categorical_crossentropy, optimizer=\"adam\",metrics=['accuracy'])"
      ],
      "execution_count": null,
      "outputs": []
    },
    {
      "cell_type": "code",
      "metadata": {
        "id": "jHvNFGa1FmQl",
        "colab": {
          "base_uri": "https://localhost:8080/"
        },
        "outputId": "2ca524cd-0fec-4510-992f-16c436b7a136"
      },
      "source": [
        "lfo_train_dropout = model_.fit(train_X, train_label, batch_size=batch_size,epochs=epochs,verbose=1,validation_data=(valid_X, valid_label))"
      ],
      "execution_count": null,
      "outputs": [
        {
          "output_type": "stream",
          "name": "stdout",
          "text": [
            "Epoch 1/100\n",
            "5/5 [==============================] - 1s 104ms/step - loss: 21.3382 - accuracy: 0.5474 - val_loss: 9.1844 - val_accuracy: 0.5429\n",
            "Epoch 2/100\n",
            "5/5 [==============================] - 0s 62ms/step - loss: 10.9645 - accuracy: 0.4599 - val_loss: 2.0882 - val_accuracy: 0.4857\n",
            "Epoch 3/100\n",
            "5/5 [==============================] - 0s 58ms/step - loss: 3.8279 - accuracy: 0.5839 - val_loss: 1.6194 - val_accuracy: 0.5429\n",
            "Epoch 4/100\n",
            "5/5 [==============================] - 0s 58ms/step - loss: 2.0410 - accuracy: 0.6058 - val_loss: 0.5017 - val_accuracy: 0.7429\n",
            "Epoch 5/100\n",
            "5/5 [==============================] - 0s 60ms/step - loss: 1.0280 - accuracy: 0.6642 - val_loss: 0.4534 - val_accuracy: 0.7143\n",
            "Epoch 6/100\n",
            "5/5 [==============================] - 0s 58ms/step - loss: 1.2182 - accuracy: 0.6058 - val_loss: 0.6422 - val_accuracy: 0.5714\n",
            "Epoch 7/100\n",
            "5/5 [==============================] - 0s 60ms/step - loss: 0.8217 - accuracy: 0.6496 - val_loss: 0.5019 - val_accuracy: 0.8000\n",
            "Epoch 8/100\n",
            "5/5 [==============================] - 0s 57ms/step - loss: 1.0613 - accuracy: 0.5912 - val_loss: 0.4260 - val_accuracy: 0.8000\n",
            "Epoch 9/100\n",
            "5/5 [==============================] - 0s 60ms/step - loss: 0.9150 - accuracy: 0.7080 - val_loss: 0.3975 - val_accuracy: 0.7429\n",
            "Epoch 10/100\n",
            "5/5 [==============================] - 0s 59ms/step - loss: 0.8667 - accuracy: 0.6350 - val_loss: 0.4207 - val_accuracy: 0.8000\n",
            "Epoch 11/100\n",
            "5/5 [==============================] - 0s 56ms/step - loss: 0.7279 - accuracy: 0.6934 - val_loss: 0.4055 - val_accuracy: 0.8000\n",
            "Epoch 12/100\n",
            "5/5 [==============================] - 0s 59ms/step - loss: 0.6167 - accuracy: 0.7226 - val_loss: 0.4019 - val_accuracy: 0.8000\n",
            "Epoch 13/100\n",
            "5/5 [==============================] - 0s 56ms/step - loss: 0.5353 - accuracy: 0.7737 - val_loss: 0.4002 - val_accuracy: 0.8000\n",
            "Epoch 14/100\n",
            "5/5 [==============================] - 0s 59ms/step - loss: 0.5475 - accuracy: 0.7372 - val_loss: 0.4081 - val_accuracy: 0.7714\n",
            "Epoch 15/100\n",
            "5/5 [==============================] - 0s 57ms/step - loss: 0.5749 - accuracy: 0.7372 - val_loss: 0.3803 - val_accuracy: 0.8000\n",
            "Epoch 16/100\n",
            "5/5 [==============================] - 0s 60ms/step - loss: 0.5641 - accuracy: 0.7445 - val_loss: 0.3850 - val_accuracy: 0.8857\n",
            "Epoch 17/100\n",
            "5/5 [==============================] - 0s 58ms/step - loss: 0.4610 - accuracy: 0.7664 - val_loss: 0.4197 - val_accuracy: 0.8000\n",
            "Epoch 18/100\n",
            "5/5 [==============================] - 0s 58ms/step - loss: 0.4440 - accuracy: 0.8102 - val_loss: 0.3719 - val_accuracy: 0.8286\n",
            "Epoch 19/100\n",
            "5/5 [==============================] - 0s 59ms/step - loss: 0.5251 - accuracy: 0.7299 - val_loss: 0.3691 - val_accuracy: 0.8000\n",
            "Epoch 20/100\n",
            "5/5 [==============================] - 0s 57ms/step - loss: 0.4778 - accuracy: 0.7591 - val_loss: 0.4524 - val_accuracy: 0.7714\n",
            "Epoch 21/100\n",
            "5/5 [==============================] - 0s 57ms/step - loss: 0.4672 - accuracy: 0.7372 - val_loss: 0.3795 - val_accuracy: 0.8000\n",
            "Epoch 22/100\n",
            "5/5 [==============================] - 0s 58ms/step - loss: 0.4368 - accuracy: 0.8175 - val_loss: 0.3710 - val_accuracy: 0.8000\n",
            "Epoch 23/100\n",
            "5/5 [==============================] - 0s 57ms/step - loss: 0.3867 - accuracy: 0.8394 - val_loss: 0.4403 - val_accuracy: 0.7143\n",
            "Epoch 24/100\n",
            "5/5 [==============================] - 0s 59ms/step - loss: 0.4430 - accuracy: 0.7956 - val_loss: 0.3511 - val_accuracy: 0.8857\n",
            "Epoch 25/100\n",
            "5/5 [==============================] - 0s 56ms/step - loss: 0.4586 - accuracy: 0.8248 - val_loss: 0.3411 - val_accuracy: 0.8857\n",
            "Epoch 26/100\n",
            "5/5 [==============================] - 0s 61ms/step - loss: 0.4128 - accuracy: 0.7956 - val_loss: 0.3178 - val_accuracy: 0.8286\n",
            "Epoch 27/100\n",
            "5/5 [==============================] - 0s 56ms/step - loss: 0.3716 - accuracy: 0.8321 - val_loss: 0.2980 - val_accuracy: 0.8857\n",
            "Epoch 28/100\n",
            "5/5 [==============================] - 0s 61ms/step - loss: 0.3908 - accuracy: 0.8321 - val_loss: 0.3511 - val_accuracy: 0.8571\n",
            "Epoch 29/100\n",
            "5/5 [==============================] - 0s 59ms/step - loss: 0.4265 - accuracy: 0.8248 - val_loss: 0.3672 - val_accuracy: 0.8857\n",
            "Epoch 30/100\n",
            "5/5 [==============================] - 0s 56ms/step - loss: 0.3868 - accuracy: 0.8175 - val_loss: 0.2980 - val_accuracy: 0.8857\n",
            "Epoch 31/100\n",
            "5/5 [==============================] - 0s 58ms/step - loss: 0.3747 - accuracy: 0.8321 - val_loss: 0.2814 - val_accuracy: 0.8571\n",
            "Epoch 32/100\n",
            "5/5 [==============================] - 0s 59ms/step - loss: 0.3706 - accuracy: 0.8175 - val_loss: 0.3207 - val_accuracy: 0.8571\n",
            "Epoch 33/100\n",
            "5/5 [==============================] - 0s 59ms/step - loss: 0.3137 - accuracy: 0.8686 - val_loss: 0.2327 - val_accuracy: 0.8857\n",
            "Epoch 34/100\n",
            "5/5 [==============================] - 0s 62ms/step - loss: 0.2948 - accuracy: 0.8467 - val_loss: 0.2253 - val_accuracy: 0.8571\n",
            "Epoch 35/100\n",
            "5/5 [==============================] - 0s 59ms/step - loss: 0.2646 - accuracy: 0.8686 - val_loss: 0.2550 - val_accuracy: 0.8857\n",
            "Epoch 36/100\n",
            "5/5 [==============================] - 0s 61ms/step - loss: 0.2494 - accuracy: 0.8832 - val_loss: 0.2792 - val_accuracy: 0.8857\n",
            "Epoch 37/100\n",
            "5/5 [==============================] - 0s 60ms/step - loss: 0.2056 - accuracy: 0.9051 - val_loss: 0.2098 - val_accuracy: 0.8857\n",
            "Epoch 38/100\n",
            "5/5 [==============================] - 0s 58ms/step - loss: 0.2610 - accuracy: 0.8686 - val_loss: 0.2005 - val_accuracy: 0.8857\n",
            "Epoch 39/100\n",
            "5/5 [==============================] - 0s 58ms/step - loss: 0.1854 - accuracy: 0.9343 - val_loss: 0.2267 - val_accuracy: 0.8571\n",
            "Epoch 40/100\n",
            "5/5 [==============================] - 0s 57ms/step - loss: 0.2177 - accuracy: 0.8832 - val_loss: 0.2009 - val_accuracy: 0.9143\n",
            "Epoch 41/100\n",
            "5/5 [==============================] - 0s 58ms/step - loss: 0.2284 - accuracy: 0.9270 - val_loss: 0.1980 - val_accuracy: 0.9143\n",
            "Epoch 42/100\n",
            "5/5 [==============================] - 0s 57ms/step - loss: 0.2498 - accuracy: 0.9051 - val_loss: 0.1875 - val_accuracy: 0.9143\n",
            "Epoch 43/100\n",
            "5/5 [==============================] - 0s 60ms/step - loss: 0.1869 - accuracy: 0.9416 - val_loss: 0.1795 - val_accuracy: 0.9143\n",
            "Epoch 44/100\n",
            "5/5 [==============================] - 0s 57ms/step - loss: 0.1877 - accuracy: 0.9051 - val_loss: 0.1734 - val_accuracy: 0.9143\n",
            "Epoch 45/100\n",
            "5/5 [==============================] - 0s 58ms/step - loss: 0.1918 - accuracy: 0.9051 - val_loss: 0.1587 - val_accuracy: 0.9143\n",
            "Epoch 46/100\n",
            "5/5 [==============================] - 0s 57ms/step - loss: 0.1802 - accuracy: 0.9051 - val_loss: 0.1781 - val_accuracy: 0.9429\n",
            "Epoch 47/100\n",
            "5/5 [==============================] - 0s 59ms/step - loss: 0.2152 - accuracy: 0.9270 - val_loss: 0.1588 - val_accuracy: 0.9143\n",
            "Epoch 48/100\n",
            "5/5 [==============================] - 0s 56ms/step - loss: 0.2621 - accuracy: 0.8759 - val_loss: 0.1391 - val_accuracy: 0.9143\n",
            "Epoch 49/100\n",
            "5/5 [==============================] - 0s 60ms/step - loss: 0.1911 - accuracy: 0.9343 - val_loss: 0.1609 - val_accuracy: 0.9143\n",
            "Epoch 50/100\n",
            "5/5 [==============================] - 0s 59ms/step - loss: 0.1383 - accuracy: 0.9416 - val_loss: 0.1379 - val_accuracy: 0.9143\n",
            "Epoch 51/100\n",
            "5/5 [==============================] - 0s 57ms/step - loss: 0.1500 - accuracy: 0.9270 - val_loss: 0.1755 - val_accuracy: 0.8857\n",
            "Epoch 52/100\n",
            "5/5 [==============================] - 0s 57ms/step - loss: 0.1283 - accuracy: 0.9562 - val_loss: 0.1607 - val_accuracy: 0.9143\n",
            "Epoch 53/100\n",
            "5/5 [==============================] - 0s 59ms/step - loss: 0.1047 - accuracy: 0.9562 - val_loss: 0.1555 - val_accuracy: 0.9429\n",
            "Epoch 54/100\n",
            "5/5 [==============================] - 0s 61ms/step - loss: 0.1440 - accuracy: 0.9343 - val_loss: 0.1614 - val_accuracy: 0.8857\n",
            "Epoch 55/100\n",
            "5/5 [==============================] - 0s 58ms/step - loss: 0.1289 - accuracy: 0.9562 - val_loss: 0.1472 - val_accuracy: 0.9143\n",
            "Epoch 56/100\n",
            "5/5 [==============================] - 0s 58ms/step - loss: 0.0855 - accuracy: 0.9562 - val_loss: 0.1396 - val_accuracy: 0.9429\n",
            "Epoch 57/100\n",
            "5/5 [==============================] - 0s 60ms/step - loss: 0.1121 - accuracy: 0.9489 - val_loss: 0.1105 - val_accuracy: 0.9429\n",
            "Epoch 58/100\n",
            "5/5 [==============================] - 0s 61ms/step - loss: 0.1020 - accuracy: 0.9489 - val_loss: 0.0898 - val_accuracy: 0.9714\n",
            "Epoch 59/100\n",
            "5/5 [==============================] - 0s 57ms/step - loss: 0.1056 - accuracy: 0.9781 - val_loss: 0.1653 - val_accuracy: 0.9143\n",
            "Epoch 60/100\n",
            "5/5 [==============================] - 0s 61ms/step - loss: 0.1329 - accuracy: 0.9416 - val_loss: 0.1110 - val_accuracy: 0.9143\n",
            "Epoch 61/100\n",
            "5/5 [==============================] - 0s 57ms/step - loss: 0.1114 - accuracy: 0.9635 - val_loss: 0.1388 - val_accuracy: 0.9429\n",
            "Epoch 62/100\n",
            "5/5 [==============================] - 0s 58ms/step - loss: 0.0627 - accuracy: 0.9781 - val_loss: 0.1194 - val_accuracy: 0.9429\n",
            "Epoch 63/100\n",
            "5/5 [==============================] - 0s 57ms/step - loss: 0.0959 - accuracy: 0.9635 - val_loss: 0.1594 - val_accuracy: 0.9429\n",
            "Epoch 64/100\n",
            "5/5 [==============================] - 0s 56ms/step - loss: 0.0893 - accuracy: 0.9489 - val_loss: 0.1152 - val_accuracy: 0.9429\n",
            "Epoch 65/100\n",
            "5/5 [==============================] - 0s 59ms/step - loss: 0.0442 - accuracy: 0.9854 - val_loss: 0.1032 - val_accuracy: 0.9429\n",
            "Epoch 66/100\n",
            "5/5 [==============================] - 0s 57ms/step - loss: 0.0548 - accuracy: 0.9854 - val_loss: 0.0867 - val_accuracy: 0.9143\n",
            "Epoch 67/100\n",
            "5/5 [==============================] - 0s 59ms/step - loss: 0.1017 - accuracy: 0.9635 - val_loss: 0.0859 - val_accuracy: 0.9714\n",
            "Epoch 68/100\n",
            "5/5 [==============================] - 0s 58ms/step - loss: 0.0364 - accuracy: 1.0000 - val_loss: 0.0804 - val_accuracy: 0.9429\n",
            "Epoch 69/100\n",
            "5/5 [==============================] - 0s 63ms/step - loss: 0.0282 - accuracy: 1.0000 - val_loss: 0.0958 - val_accuracy: 0.9429\n",
            "Epoch 70/100\n",
            "5/5 [==============================] - 0s 57ms/step - loss: 0.0675 - accuracy: 0.9781 - val_loss: 0.0864 - val_accuracy: 0.9714\n",
            "Epoch 71/100\n",
            "5/5 [==============================] - 0s 57ms/step - loss: 0.0500 - accuracy: 0.9854 - val_loss: 0.0810 - val_accuracy: 0.9714\n",
            "Epoch 72/100\n",
            "5/5 [==============================] - 0s 58ms/step - loss: 0.0549 - accuracy: 0.9854 - val_loss: 0.1122 - val_accuracy: 0.9143\n",
            "Epoch 73/100\n",
            "5/5 [==============================] - 0s 60ms/step - loss: 0.0552 - accuracy: 0.9708 - val_loss: 0.0674 - val_accuracy: 0.9714\n",
            "Epoch 74/100\n",
            "5/5 [==============================] - 0s 58ms/step - loss: 0.1087 - accuracy: 0.9635 - val_loss: 0.0721 - val_accuracy: 0.9714\n",
            "Epoch 75/100\n",
            "5/5 [==============================] - 0s 58ms/step - loss: 0.1720 - accuracy: 0.9416 - val_loss: 0.1208 - val_accuracy: 0.9714\n",
            "Epoch 76/100\n",
            "5/5 [==============================] - 0s 57ms/step - loss: 0.0409 - accuracy: 0.9927 - val_loss: 0.2069 - val_accuracy: 0.9143\n",
            "Epoch 77/100\n",
            "5/5 [==============================] - 0s 60ms/step - loss: 0.0741 - accuracy: 0.9708 - val_loss: 0.1572 - val_accuracy: 0.9143\n",
            "Epoch 78/100\n",
            "5/5 [==============================] - 0s 59ms/step - loss: 0.0565 - accuracy: 0.9708 - val_loss: 0.1623 - val_accuracy: 0.9429\n",
            "Epoch 79/100\n",
            "5/5 [==============================] - 0s 57ms/step - loss: 0.0595 - accuracy: 0.9635 - val_loss: 0.1702 - val_accuracy: 0.9143\n",
            "Epoch 80/100\n",
            "5/5 [==============================] - 0s 60ms/step - loss: 0.0353 - accuracy: 0.9781 - val_loss: 0.1735 - val_accuracy: 0.9143\n",
            "Epoch 81/100\n",
            "5/5 [==============================] - 0s 59ms/step - loss: 0.0643 - accuracy: 0.9708 - val_loss: 0.1745 - val_accuracy: 0.9429\n",
            "Epoch 82/100\n",
            "5/5 [==============================] - 0s 59ms/step - loss: 0.0411 - accuracy: 0.9927 - val_loss: 0.1302 - val_accuracy: 0.9429\n",
            "Epoch 83/100\n",
            "5/5 [==============================] - 0s 59ms/step - loss: 0.0615 - accuracy: 0.9708 - val_loss: 0.1122 - val_accuracy: 0.9429\n",
            "Epoch 84/100\n",
            "5/5 [==============================] - 0s 59ms/step - loss: 0.0533 - accuracy: 0.9854 - val_loss: 0.1328 - val_accuracy: 0.9429\n",
            "Epoch 85/100\n",
            "5/5 [==============================] - 0s 61ms/step - loss: 0.0253 - accuracy: 0.9927 - val_loss: 0.1185 - val_accuracy: 0.9429\n",
            "Epoch 86/100\n",
            "5/5 [==============================] - 0s 60ms/step - loss: 0.0309 - accuracy: 0.9854 - val_loss: 0.1055 - val_accuracy: 0.9143\n",
            "Epoch 87/100\n",
            "5/5 [==============================] - 0s 58ms/step - loss: 0.0042 - accuracy: 1.0000 - val_loss: 0.1323 - val_accuracy: 0.9429\n",
            "Epoch 88/100\n",
            "5/5 [==============================] - 0s 63ms/step - loss: 0.0605 - accuracy: 0.9781 - val_loss: 0.1193 - val_accuracy: 0.9429\n",
            "Epoch 89/100\n",
            "5/5 [==============================] - 0s 59ms/step - loss: 0.0922 - accuracy: 0.9635 - val_loss: 0.3152 - val_accuracy: 0.9143\n",
            "Epoch 90/100\n",
            "5/5 [==============================] - 0s 59ms/step - loss: 0.0949 - accuracy: 0.9781 - val_loss: 0.1063 - val_accuracy: 0.9714\n",
            "Epoch 91/100\n",
            "5/5 [==============================] - 0s 60ms/step - loss: 0.0595 - accuracy: 0.9854 - val_loss: 0.0932 - val_accuracy: 0.9429\n",
            "Epoch 92/100\n",
            "5/5 [==============================] - 0s 59ms/step - loss: 0.0581 - accuracy: 0.9854 - val_loss: 0.1438 - val_accuracy: 0.9714\n",
            "Epoch 93/100\n",
            "5/5 [==============================] - 0s 59ms/step - loss: 0.1657 - accuracy: 0.9489 - val_loss: 0.0474 - val_accuracy: 0.9714\n",
            "Epoch 94/100\n",
            "5/5 [==============================] - 0s 59ms/step - loss: 0.1019 - accuracy: 0.9562 - val_loss: 0.1292 - val_accuracy: 0.9143\n",
            "Epoch 95/100\n",
            "5/5 [==============================] - 0s 60ms/step - loss: 0.1097 - accuracy: 0.9635 - val_loss: 0.0833 - val_accuracy: 0.9429\n",
            "Epoch 96/100\n",
            "5/5 [==============================] - 0s 59ms/step - loss: 0.0570 - accuracy: 0.9854 - val_loss: 0.0725 - val_accuracy: 0.9429\n",
            "Epoch 97/100\n",
            "5/5 [==============================] - 0s 58ms/step - loss: 0.0159 - accuracy: 1.0000 - val_loss: 0.0566 - val_accuracy: 0.9714\n",
            "Epoch 98/100\n",
            "5/5 [==============================] - 0s 62ms/step - loss: 0.0683 - accuracy: 0.9781 - val_loss: 0.0585 - val_accuracy: 0.9714\n",
            "Epoch 99/100\n",
            "5/5 [==============================] - 0s 58ms/step - loss: 0.0738 - accuracy: 0.9781 - val_loss: 0.0598 - val_accuracy: 0.9429\n",
            "Epoch 100/100\n",
            "5/5 [==============================] - 0s 58ms/step - loss: 0.0445 - accuracy: 0.9854 - val_loss: 0.0621 - val_accuracy: 0.9714\n"
          ]
        }
      ]
    },
    {
      "cell_type": "code",
      "metadata": {
        "id": "IRDlmyq3FmQm",
        "colab": {
          "base_uri": "https://localhost:8080/"
        },
        "outputId": "717adb84-d218-4dc6-9550-fb6f292c4c72"
      },
      "source": [
        "test_eval = model_.evaluate(test_X, test_y_one_hot, verbose=1)"
      ],
      "execution_count": null,
      "outputs": [
        {
          "output_type": "stream",
          "name": "stdout",
          "text": [
            "1/1 [==============================] - 0s 21ms/step - loss: 2.9913e-04 - accuracy: 1.0000\n"
          ]
        }
      ]
    },
    {
      "cell_type": "code",
      "metadata": {
        "scrolled": true,
        "id": "Y1LIPBfNFmQn",
        "colab": {
          "base_uri": "https://localhost:8080/"
        },
        "outputId": "ecd43fac-f614-4516-d5e1-425ade813597"
      },
      "source": [
        "test_eval"
      ],
      "execution_count": null,
      "outputs": [
        {
          "output_type": "execute_result",
          "data": {
            "text/plain": [
              "[0.00029913129401393235, 1.0]"
            ]
          },
          "metadata": {},
          "execution_count": 29
        }
      ]
    },
    {
      "cell_type": "code",
      "metadata": {
        "scrolled": false,
        "id": "qlM59W_HFmQn",
        "colab": {
          "base_uri": "https://localhost:8080/",
          "height": 545
        },
        "outputId": "9fc62ad6-181e-4ba0-ec09-646a40346641"
      },
      "source": [
        "accuracy = lfo_train_dropout.history['accuracy']\n",
        "val_accuracy = lfo_train_dropout.history['val_accuracy']\n",
        "loss = lfo_train_dropout.history['loss']\n",
        "val_loss = lfo_train_dropout.history['val_loss']\n",
        "epochss = range(len(accuracy))\n",
        "plt.plot(epochss, accuracy, 'bo', label='Training accuracy')\n",
        "plt.plot(epochss, val_accuracy, 'b', label='Validation accuracy')\n",
        "plt.title('Training and validation accuracy')\n",
        "plt.legend()\n",
        "plt.figure()\n",
        "plt.plot(epochss, loss, 'bo', label='Training loss')\n",
        "plt.plot(epochss, val_loss, 'b', label='Validation loss')\n",
        "plt.title('Training and validation loss')\n",
        "plt.legend()\n",
        "plt.show()"
      ],
      "execution_count": null,
      "outputs": [
        {
          "output_type": "display_data",
          "data": {
            "image/png": "[encoded data removed]",
            "text/plain": [
              "<Figure size 432x288 with 1 Axes>"
            ]
          },
          "metadata": {
            "needs_background": "light"
          }
        },
        {
          "output_type": "display_data",
          "data": {
            "image/png": "[encoded data removed]",
            "text/plain": [
              "<Figure size 432x288 with 1 Axes>"
            ]
          },
          "metadata": {
            "needs_background": "light"
          }
        }
      ]
    },
    {
      "cell_type": "code",
      "metadata": {
        "id": "lXEAaUMjFmQo",
        "colab": {
          "base_uri": "https://localhost:8080/"
        },
        "outputId": "1cbd1d49-705d-4e9c-a2eb-e07a38c6da3b"
      },
      "source": [
        "predicted_classes = model_.predict(test_X)\n",
        "predicted_classes = np.argmax(np.round(predicted_classes),axis=1)\n",
        "correct = np.where(predicted_classes==test_y)[0]\n",
        "print(len(correct)/len(predicted_classes))"
      ],
      "execution_count": null,
      "outputs": [
        {
          "output_type": "stream",
          "name": "stdout",
          "text": [
            "1.0\n"
          ]
        }
      ]
    },
    {
      "cell_type": "code",
      "metadata": {
        "colab": {
          "base_uri": "https://localhost:8080/",
          "height": 296
        },
        "id": "uxls3wa0hGc0",
        "outputId": "5e2d6bd9-6c02-4661-d104-991b78b6880d"
      },
      "source": [
        "predicted_classes = model_.predict(test_X)\n",
        "predicted_classes = np.argmax(np.round(predicted_classes),axis=1)\n",
        "ConfusionMatrixDisplay.from_predictions(test_y, predicted_classes, labels = [1,0], cmap=\"cubehelix\", colorbar = 0)"
      ],
      "execution_count": null,
      "outputs": [
        {
          "output_type": "execute_result",
          "data": {
            "text/plain": [
              "<sklearn.metrics._plot.confusion_matrix.ConfusionMatrixDisplay at 0x7f90009eded0>"
            ]
          },
          "metadata": {},
          "execution_count": 32
        },
        {
          "output_type": "display_data",
          "data": {
            "image/png": "[encoded data removed]",
            "text/plain": [
              "<Figure size 432x288 with 1 Axes>"
            ]
          },
          "metadata": {
            "needs_background": "light"
          }
        }
      ]
    },
    {
      "cell_type": "code",
      "metadata": {
        "id": "KNIyFDg3FmQp",
        "colab": {
          "base_uri": "https://localhost:8080/"
        },
        "outputId": "f292d7b8-4359-492b-93b1-1b6341350286"
      },
      "source": [
        "target_names = [\"Class {}\".format(i) for i in range(num_classes)]\n",
        "print(classification_report(test_y, predicted_classes, target_names=target_names))"
      ],
      "execution_count": null,
      "outputs": [
        {
          "output_type": "stream",
          "name": "stdout",
          "text": [
            "              precision    recall  f1-score   support\n",
            "\n",
            "     Class 0       1.00      1.00      1.00         1\n",
            "     Class 1       1.00      1.00      1.00         5\n",
            "\n",
            "    accuracy                           1.00         6\n",
            "   macro avg       1.00      1.00      1.00         6\n",
            "weighted avg       1.00      1.00      1.00         6\n",
            "\n"
          ]
        }
      ]
    }
  ]
}